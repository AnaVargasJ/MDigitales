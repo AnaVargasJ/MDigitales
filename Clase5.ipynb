{
  "nbformat": 4,
  "nbformat_minor": 0,
  "metadata": {
    "colab": {
      "name": "Clase5.ipynb",
      "provenance": [],
      "authorship_tag": "ABX9TyOew9ricL4sLJQfabBHwkVE",
      "include_colab_link": true
    },
    "kernelspec": {
      "name": "python3",
      "display_name": "Python 3"
    },
    "language_info": {
      "name": "python"
    }
  },
  "cells": [
    {
      "cell_type": "markdown",
      "metadata": {
        "id": "view-in-github",
        "colab_type": "text"
      },
      "source": [
        "<a href=\"https://colab.research.google.com/github/AnaVargasJ/MDigitales/blob/main/Clase5.ipynb\" target=\"_parent\"><img src=\"https://colab.research.google.com/assets/colab-badge.svg\" alt=\"Open In Colab\"/></a>"
      ]
    },
    {
      "cell_type": "markdown",
      "metadata": {
        "id": "4PYGKQw1Ksiz"
      },
      "source": [
        "**CONTINUACIÓN DE CICLOS**\n",
        "\n",
        "\n",
        "---\n",
        "**Ciclo For - Bucle FOR**\n"
      ]
    },
    {
      "cell_type": "code",
      "metadata": {
        "colab": {
          "base_uri": "https://localhost:8080/"
        },
        "id": "6aL4JMZHKg8b",
        "outputId": "e8765334-4605-440b-9492-e2ea263cd5fa"
      },
      "source": [
        "for i in range(1,5):\n",
        "  print(1)\n"
      ],
      "execution_count": 1,
      "outputs": [
        {
          "output_type": "stream",
          "text": [
            "1\n",
            "1\n",
            "1\n",
            "1\n"
          ],
          "name": "stdout"
        }
      ]
    },
    {
      "cell_type": "markdown",
      "metadata": {
        "id": "F5ZJySieK3qN"
      },
      "source": [
        "Para dejar claro las partes que componen el bucle FOR, vamos a dejar claro las siguientes definiciones:\n",
        "\n",
        "1. **Iterable**: son los objetos que pueden ser iterados, por ejemplo una lista, un valor tipo cadena, etc \n",
        "2. **Iterador**: Son objetos que hacen a referencia a un elemento (para hacer referencia a cada uno de los elementos hay un métpdp denominado \"next\" que permite hacer referencia a los elementos del conjunto \n",
        "\n",
        "**for  (variable) in (iterable):\n",
        "        (Nloque código)\n",
        "\n",
        "\n",
        "Algunos ejemplo de iterables en pyhton son las listas, cadenas, diccionarios, tuplas, etc.\n",
        "\n",
        "¿Cómo saber que es iterable a la hora de progrmar?\n",
        "Podemos darnos cuenta que es iterable usando la función isinstance()."
      ]
    },
    {
      "cell_type": "code",
      "metadata": {
        "colab": {
          "base_uri": "https://localhost:8080/"
        },
        "id": "iYPByCl3K5FK",
        "outputId": "201da97a-aaeb-45f0-dba5-e37021bb655f"
      },
      "source": [
        "from collections import Iterable #paquete iterable de collections (python 3.7)\n",
        "lista = [1,2,3,4,5,6,7,8,9,0]\n",
        "a = \"computador\"\n",
        "b = 14\n",
        "print(isinstance(lista, Iterable))\n",
        "print(isinstance(a, Iterable))\n",
        "print(isinstance(b, Iterable))"
      ],
      "execution_count": 2,
      "outputs": [
        {
          "output_type": "stream",
          "text": [
            "True\n",
            "True\n",
            "False\n"
          ],
          "name": "stdout"
        },
        {
          "output_type": "stream",
          "text": [
            "/usr/local/lib/python3.7/dist-packages/ipykernel_launcher.py:1: DeprecationWarning: Using or importing the ABCs from 'collections' instead of from 'collections.abc' is deprecated since Python 3.3,and in 3.9 it will stop working\n",
            "  \"\"\"Entry point for launching an IPython kernel.\n"
          ],
          "name": "stderr"
        }
      ]
    },
    {
      "cell_type": "code",
      "metadata": {
        "id": "EpLwvZoELB7u"
      },
      "source": [
        "a = 30 #arrojaría error porque no es iterable\n",
        "for i in a :"
      ],
      "execution_count": null,
      "outputs": []
    },
    {
      "cell_type": "markdown",
      "metadata": {
        "id": "M9qyQNcNLDXz"
      },
      "source": [
        "Para entender los iteradores, es importante conocer la funcion *iter()*, esta función puede ser llamada sobre un objeto que sea iterable, y nos devolverá un iterador \n",
        "\n",
        "Ejemplo:"
      ]
    },
    {
      "cell_type": "code",
      "metadata": {
        "colab": {
          "base_uri": "https://localhost:8080/"
        },
        "id": "9UZR12Z4LFyj",
        "outputId": "3d25e1e5-1714-4f23-9e63-4697d6b5c945"
      },
      "source": [
        "lista = [1,2,3,4,5,6,7,8,9,0]\n",
        "ref = iter(lista)\n",
        "print(ref)\n",
        "print(type(ref))"
      ],
      "execution_count": 3,
      "outputs": [
        {
          "output_type": "stream",
          "text": [
            "<list_iterator object at 0x7f0a4e6b5390>\n",
            "<class 'list_iterator'>\n"
          ],
          "name": "stdout"
        }
      ]
    },
    {
      "cell_type": "markdown",
      "metadata": {
        "id": "5dBTKTDULKMb"
      },
      "source": [
        "Al imprimir ref es un iterador, de la clase *list_iterador* hace referencia a la lista original y nos permite acceder a sus elementos con la función *next()*. Cada vez que llamemos a next() sobre ref, nos devuelve el siguiente elemento de la lista original \n",
        "\n",
        "si por ejemplo, quiero acceder al elemento 7, tendremos que llamar 7 veces a next()"
      ]
    },
    {
      "cell_type": "code",
      "metadata": {
        "colab": {
          "base_uri": "https://localhost:8080/"
        },
        "id": "TJRc5-mBLLFF",
        "outputId": "6495c210-757b-4168-99d7-c386fd251126"
      },
      "source": [
        "lista = [1,2,3,4,5,6,7,8,9,0]\n",
        "ref = iter(lista)\n",
        "print(next(ref))\n",
        "print(next(ref))\n",
        "print(next(ref))\n",
        "print(next(ref))\n",
        "print(next(ref))\n",
        "print(next(ref))\n",
        "print(next(ref))\n",
        "print(next(ref))\n",
        "print(next(ref))\n",
        "print(next(ref))"
      ],
      "execution_count": 4,
      "outputs": [
        {
          "output_type": "stream",
          "text": [
            "1\n",
            "2\n",
            "3\n",
            "4\n",
            "5\n",
            "6\n",
            "7\n",
            "8\n",
            "9\n",
            "0\n"
          ],
          "name": "stdout"
        }
      ]
    },
    {
      "cell_type": "markdown",
      "metadata": {
        "id": "aoJdrleOLPKS"
      },
      "source": [
        "**TENER EN CUENTA**\n",
        "\n",
        "Existen otro iteradores para las diferentes clases:\n",
        "1. str_iterador para cadenas \n",
        "2. list_iterador para listas\n",
        "3. set_iterador para conjuntos\n",
        "4. dict_keyiterator para diccionarios"
      ]
    },
    {
      "cell_type": "markdown",
      "metadata": {
        "id": "08UBPdmFLTgl"
      },
      "source": [
        "**FOR ANIDADOS**\n",
        "\n",
        "---\n",
        "Es posible anidas los , es decir ingresar uno dentro de otro, como lo vemos a continuación"
      ]
    },
    {
      "cell_type": "code",
      "metadata": {
        "colab": {
          "base_uri": "https://localhost:8080/"
        },
        "id": "d1sk6fv9LWwL",
        "outputId": "bf4c320e-dd68-4166-d918-8ff9751bd78e"
      },
      "source": [
        "#vamos a crear una lista de listas lo cual conforma una especie de matriz\n",
        "#Recordemos que una matriz se compone de valores que se distribuyen el filan y columnas \n",
        "qa = [[1,2,3],\n",
        "      [4,5,6], \n",
        "      [7,8,9]]\n",
        "  \n",
        "for i in qa :\n",
        "  print(i)\n",
        "\n",
        "for i in qa:\n",
        "  for j in i:\n",
        "    print(j)"
      ],
      "execution_count": 5,
      "outputs": [
        {
          "output_type": "stream",
          "text": [
            "[1, 2, 3]\n",
            "[4, 5, 6]\n",
            "[7, 8, 9]\n",
            "1\n",
            "2\n",
            "3\n",
            "4\n",
            "5\n",
            "6\n",
            "7\n",
            "8\n",
            "9\n"
          ],
          "name": "stdout"
        }
      ]
    },
    {
      "cell_type": "markdown",
      "metadata": {
        "id": "qKiLqeS_LaPS"
      },
      "source": [
        "Si queremos acceder a cada elemento individualmente, se procede a realizar un bucle de FOR anidado. Es decir , un for se encargará de iterar las columnas y el otro, las filas"
      ]
    },
    {
      "cell_type": "code",
      "metadata": {
        "colab": {
          "base_uri": "https://localhost:8080/"
        },
        "id": "ph5jJ21PLZ8O",
        "outputId": "6ce74109-dbc6-4e5c-9f96-2f00fb9ef2f8"
      },
      "source": [
        "#Otra forma de utilizar solo el for es la iteración al revés. Es decir se puede iterar la lista desde ek ultimo al primer elemento\n",
        "lista = [1,2,3,4,5,6,7,8,9,0]\n",
        "for i in lista[::-1]:\n",
        "  print(i)"
      ],
      "execution_count": 6,
      "outputs": [
        {
          "output_type": "stream",
          "text": [
            "0\n",
            "9\n",
            "8\n",
            "7\n",
            "6\n",
            "5\n",
            "4\n",
            "3\n",
            "2\n",
            "1\n"
          ],
          "name": "stdout"
        }
      ]
    },
    {
      "cell_type": "code",
      "metadata": {
        "colab": {
          "base_uri": "https://localhost:8080/"
        },
        "id": "Ob53NZU1Ldi8",
        "outputId": "f853a7dd-28f4-4a86-d1ea-a497b013ea27"
      },
      "source": [
        "lista = [1,2,3,4,5,6,7,8,9,0]\n",
        "for i in lista[::2]:\n",
        "  print(i)\n",
        "print(\"----------------------\")\n",
        "a = \"computador\"\n",
        "for i in a [::4]:\n",
        "  print(i)"
      ],
      "execution_count": 7,
      "outputs": [
        {
          "output_type": "stream",
          "text": [
            "1\n",
            "3\n",
            "5\n",
            "7\n",
            "9\n",
            "----------------------\n",
            "c\n",
            "u\n",
            "o\n"
          ],
          "name": "stdout"
        }
      ]
    },
    {
      "cell_type": "code",
      "metadata": {
        "colab": {
          "base_uri": "https://localhost:8080/"
        },
        "id": "GdjhEFiMLghZ",
        "outputId": "037e4613-f451-4519-cdda-3c0369ee2b43"
      },
      "source": [
        "#Usando rangos \n",
        "for i in range(10):\n",
        "  print(i)\n",
        "#El range( genera una secuencia de numero que van desde 0 por defecto \n",
        "#El número que sepasa como parámetro menos 2.\n",
        "\n",
        "#*Estructura: rage(inicio, fin, salto)\n",
        "\n",
        "#Observemos un truco con el range\n",
        "print(list(range(2,10,2))) #convertir un rango en una lista "
      ],
      "execution_count": 8,
      "outputs": [
        {
          "output_type": "stream",
          "text": [
            "0\n",
            "1\n",
            "2\n",
            "3\n",
            "4\n",
            "5\n",
            "6\n",
            "7\n",
            "8\n",
            "9\n",
            "[2, 4, 6, 8]\n"
          ],
          "name": "stdout"
        }
      ]
    },
    {
      "cell_type": "markdown",
      "metadata": {
        "id": "NXCgp0_vLjI6"
      },
      "source": [
        "**LISTA DE COMPRENSIÓN**\n",
        "\n",
        "\n",
        "---\n",
        "EStas nor permite crear listas de elementos en una sola linea de código\n",
        "Ejemplo: Crear una lista de las potencias a la 3 de los números impares de 0 a 9"
      ]
    },
    {
      "cell_type": "code",
      "metadata": {
        "colab": {
          "base_uri": "https://localhost:8080/"
        },
        "id": "H1CKsfDCLmIM",
        "outputId": "9b474a8e-ac18-4094-fab2-d3d89bae48fe"
      },
      "source": [
        "tres = [i**3 for i in range(1,10,2)]\n",
        "print(tres)\n",
        "\n",
        "tres = []\n",
        "for i in range(1,10,2):\n",
        "  tres.append(i**3)\n",
        "  print(i)"
      ],
      "execution_count": 9,
      "outputs": [
        {
          "output_type": "stream",
          "text": [
            "[1, 27, 125, 343, 729]\n",
            "1\n",
            "3\n",
            "5\n",
            "7\n",
            "9\n"
          ],
          "name": "stdout"
        }
      ]
    },
    {
      "cell_type": "code",
      "metadata": {
        "colab": {
          "base_uri": "https://localhost:8080/"
        },
        "id": "KwC-5GDLLp1y",
        "outputId": "acd6a60f-571b-40b8-dd80-9a395c4d9ac2"
      },
      "source": [
        "s = [i for i in range(10)]\n",
        "print(s)"
      ],
      "execution_count": 10,
      "outputs": [
        {
          "output_type": "stream",
          "text": [
            "[0, 1, 2, 3, 4, 5, 6, 7, 8, 9]\n"
          ],
          "name": "stdout"
        }
      ]
    },
    {
      "cell_type": "code",
      "metadata": {
        "colab": {
          "base_uri": "https://localhost:8080/"
        },
        "id": "eXJmB0BGLrl8",
        "outputId": "0adbd8e1-d5d5-4e7b-8f16-4cee31f74c42"
      },
      "source": [
        "lwa = [5,10,15,20,25,30]\n",
        "lwa2 = [ 1/5 for i in lwa]\n",
        "print(lwa2)"
      ],
      "execution_count": 11,
      "outputs": [
        {
          "output_type": "stream",
          "text": [
            "[0.2, 0.2, 0.2, 0.2, 0.2, 0.2]\n"
          ],
          "name": "stdout"
        }
      ]
    },
    {
      "cell_type": "code",
      "metadata": {
        "colab": {
          "base_uri": "https://localhost:8080/"
        },
        "id": "XII2g6JrLtYW",
        "outputId": "8f3023de-3ecc-4443-b557-a0ac75fb4b8b"
      },
      "source": [
        "pera = \"mamá ama a ema\"\n",
        "pera2 = [i for i in pera if i== \"a\"]\n",
        "print(pera2)"
      ],
      "execution_count": 12,
      "outputs": [
        {
          "output_type": "stream",
          "text": [
            "['a', 'a', 'a', 'a', 'a']\n"
          ],
          "name": "stdout"
        }
      ]
    }
  ]
}