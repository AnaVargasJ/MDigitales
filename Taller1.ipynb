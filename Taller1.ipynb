{
  "nbformat": 4,
  "nbformat_minor": 0,
  "metadata": {
    "colab": {
      "name": "Taller1.ipynb",
      "provenance": [],
      "authorship_tag": "ABX9TyOM/bIDrvcZFJx2YmJZ0gTK",
      "include_colab_link": true
    },
    "kernelspec": {
      "name": "python3",
      "display_name": "Python 3"
    },
    "language_info": {
      "name": "python"
    }
  },
  "cells": [
    {
      "cell_type": "markdown",
      "metadata": {
        "id": "view-in-github",
        "colab_type": "text"
      },
      "source": [
        "<a href=\"https://colab.research.google.com/github/AnaVargasJ/MDigitales/blob/main/Taller1.ipynb\" target=\"_parent\"><img src=\"https://colab.research.google.com/assets/colab-badge.svg\" alt=\"Open In Colab\"/></a>"
      ]
    },
    {
      "cell_type": "code",
      "metadata": {
        "colab": {
          "base_uri": "https://localhost:8080/"
        },
        "id": "0BqRxN-LPl0H",
        "outputId": "80641251-9abc-4707-fbe4-acc6a9a165d0"
      },
      "source": [
        "tareas= 4.5*10/100\n",
        "talleres = 4.0*25/100\n",
        "asistencia = 5.0*5/100\n",
        "participacion = 4.0*15/100\n",
        "\n",
        "suma = tareas + talleres + asistencia + participacion \n",
        "promedio = suma/4\n",
        "proyecto = promedio + suma\n",
        "\n",
        "\n",
        "print(\"la nota del proyecto tendria que ser\",proyecto)\n",
        "\n",
        "\n",
        "\n"
      ],
      "execution_count": null,
      "outputs": [
        {
          "output_type": "stream",
          "text": [
            "la nota del proyecto tendria que ser 2.875\n"
          ],
          "name": "stdout"
        }
      ]
    }
  ]
}