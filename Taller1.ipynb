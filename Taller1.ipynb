{
  "nbformat": 4,
  "nbformat_minor": 0,
  "metadata": {
    "colab": {
      "name": "Taller1.ipynb",
      "provenance": [],
      "authorship_tag": "ABX9TyMfVZDQ0YduDrdLSHvTxaAh",
      "include_colab_link": true
    },
    "kernelspec": {
      "name": "python3",
      "display_name": "Python 3"
    },
    "language_info": {
      "name": "python"
    }
  },
  "cells": [
    {
      "cell_type": "markdown",
      "metadata": {
        "id": "view-in-github",
        "colab_type": "text"
      },
      "source": [
        "<a href=\"https://colab.research.google.com/github/AnaVargasJ/MDigitales/blob/main/Taller1.ipynb\" target=\"_parent\"><img src=\"https://colab.research.google.com/assets/colab-badge.svg\" alt=\"Open In Colab\"/></a>"
      ]
    },
    {
      "cell_type": "markdown",
      "metadata": {
        "id": "J0DhNM3igsRM"
      },
      "source": [
        "**Ejercicio 1**"
      ]
    },
    {
      "cell_type": "code",
      "metadata": {
        "id": "zlw0YawXgtD7",
        "outputId": "656f4278-7c4e-4227-a463-20c7a562af2d",
        "colab": {
          "base_uri": "https://localhost:8080/"
        }
      },
      "source": [
        "tareas= 4.5*10/100\n",
        "talleres = 4.0*25/100\n",
        "asistencia = 5.0*5/100\n",
        "participacion = 4.0*15/100\n",
        "\n",
        "suma = tareas + talleres + asistencia + participacion \n",
        "promedio = suma/4\n",
        "proyecto = promedio + suma\n",
        "\n",
        "\n",
        "print(\"la nota del proyecto tendria que ser\",proyecto)\n",
        "\n",
        "\n"
      ],
      "execution_count": 8,
      "outputs": [
        {
          "output_type": "stream",
          "text": [
            "la nota del proyecto tendria que ser 2.875\n"
          ],
          "name": "stdout"
        }
      ]
    },
    {
      "cell_type": "markdown",
      "metadata": {
        "id": "R33sBfkOgoSU"
      },
      "source": [
        "**Ejercicio 2**"
      ]
    },
    {
      "cell_type": "code",
      "metadata": {
        "id": "nJ1Y_uJaBEa2",
        "outputId": "7e45ceba-0161-487c-d655-343bd27860ba",
        "colab": {
          "base_uri": "https://localhost:8080/"
        }
      },
      "source": [
        "\n",
        "nombre = input(\"ingrese el nombre del concursante : \")\n",
        "balota = input(\"ingrese el color de la balota:\")\n",
        "\n",
        "if (balota == \"rosada\"):\n",
        "  print(\"la empresa VIVAFLY se complace en anunciar  que la participante\",nombre, \"gano\", \"viaje todo incluido  para dos personas a San Andres y bono de 150.000\")\n",
        "elif (balota == \"verde\"):\n",
        "  print(\"la empresa VIVAFLY se complace en anunciar  que la participante\",nombre, \"gano\", \"una pasadia a los termales de San vicente incluyendo almuerzo\")\n",
        "elif (balota == \"azul\"):\n",
        "  print(\"la empresa VIVAFLY se complace en anunciar  que la participante\",nombre, \"gano\", \"viaje todo incluido  para dos personas a Santa marta y dos boletas de cine  4D parta la pelicula en estreno incluyendo un solo de bono de palomitas \")\n",
        "elif (balota == \"gris\"):\n",
        "  print(\"la empresa VIVAFLY se complace en anunciar  que la participante\",nombre, \"gano\", \"pasadia al desierto de la Tatacoa(sin alimentacion \")\n",
        "elif (balota == \"roja\"):\n",
        "  print(\"no hay premio, pero  gana bono de 120.000\")\n",
        "else:\n",
        "    print(\"la balota no esta en juego\")"
      ],
      "execution_count": 7,
      "outputs": [
        {
          "output_type": "stream",
          "text": [
            "ingrese el nombre del concursante : ANA\n",
            "ingrese el color de la balota:verde\n",
            "la empresa VIVAFLY se complace en anunciar  que la participante ANA gano una pasadia a los termales de San vicente incluyendo almuerzo\n"
          ],
          "name": "stdout"
        }
      ]
    }
  ]
}