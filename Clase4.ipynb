{
  "nbformat": 4,
  "nbformat_minor": 0,
  "metadata": {
    "colab": {
      "name": "Clase4.ipynb",
      "provenance": [],
      "authorship_tag": "ABX9TyN6r7x2rP21/VkX1FV9zG1J",
      "include_colab_link": true
    },
    "kernelspec": {
      "name": "python3",
      "display_name": "Python 3"
    },
    "language_info": {
      "name": "python"
    }
  },
  "cells": [
    {
      "cell_type": "markdown",
      "metadata": {
        "id": "view-in-github",
        "colab_type": "text"
      },
      "source": [
        "<a href=\"https://colab.research.google.com/github/AnaVargasJ/MDigitales/blob/main/Clase4.ipynb\" target=\"_parent\"><img src=\"https://colab.research.google.com/assets/colab-badge.svg\" alt=\"Open In Colab\"/></a>"
      ]
    },
    {
      "cell_type": "markdown",
      "metadata": {
        "id": "ITjX-NhWi-Pt"
      },
      "source": [
        "**Continuacion de estructuras de control iterativa **\n",
        "\n",
        "\n",
        "---\n",
        "**Acumuladores**\n",
        "\n",
        "Sel da este nombre a la variables que se encargan de almcenar algun tipo de informacion.\n",
        "**Ejemplo**\n",
        "\n",
        "El caso de la compra de viveres en la tiends.\n"
      ]
    },
    {
      "cell_type": "code",
      "metadata": {
        "id": "6zpAVG_gSdgI"
      },
      "source": [
        "nombre = input(\"Nombre del comprador\")\n",
        "Listacompra = \"\";\n",
        "print(nombre, \"escribe los siguientes niveles para su compra ene el supermercado:\")\n",
        "listacompra = (listacompra , + \"1 paca de papel de  higienico\")\n",
        "print(\"----compras que tengo que hacer----\")\n",
        "print(listacompra)\n",
        "listacompra=(listacompra ,+ \"Shampoo pantene 2 and 1\")\n",
        "listacompra=(listacompra,  +\"2 pacas de pañales pequeñin etapa 3\")\n",
        "print(listacompra)\n"
      ],
      "execution_count": null,
      "outputs": []
    },
    {
      "cell_type": "markdown",
      "metadata": {
        "id": "-9FTBug2lStK"
      },
      "source": [
        "la variable \"listacompra\" nos esta sirviendooppara acumular informacion de la lista de compra.\n",
        "podemos observar, que **NO** estamos creando una variable por cada item, sino una variable definida nos sirve para almacenar la informacion\n",
        "\n",
        "A continuacion observemos un ejemplo en donde se pone en practica el uso de acumulacion en una variable usando cantidades y precios"
      ]
    },
    {
      "cell_type": "code",
      "metadata": {
        "colab": {
          "base_uri": "https://localhost:8080/"
        },
        "id": "L5Y9Sfj9l8kO",
        "outputId": "58bfeb52-2446-4cb5-acf6-f8fc71b39ee9"
      },
      "source": [
        "ppph=14000 #precio de papel higienico\n",
        "cpph =2 #cantidad de pacas de papel \n",
        "pshampoo = 18000 #Precio de shampoo pantene 2 and 1\n",
        "cshampoo =4 #Cantidad de shampoo\n",
        "ppbebe = 17000 #precio de pacas de pañales pequeña\n",
        "cpbebe = 3 #cantidad de pañales pequeños\n",
        "\n",
        "subtotal = 0\n",
        "print(\"Calculando el total de la compra...\")\n",
        "total_ppph=ppph*cpph\n",
        "print(\"el valor de la compra del papel higiencio es\", total_ppph)\n",
        "subtotal=subtotal + total_ppph\n",
        "print(\"---el subtotal es:\",subtotal)\n",
        "total_shampoo = pshampoo *cshampoo\n",
        "print(\"El valor del total de Shampoo es:$\",total_shampoo )\n",
        "subtotal = subtotal+ total_shampoo\n",
        "print(\"---el subtotal es:$\",subtotal)\n",
        "total_ppbebe = ppbebe*cpbebe\n",
        "print(\"el valor total de pañales es:$\",total_ppbebe)\n",
        "subtotal = subtotal + total_ppbebe\n",
        "print(\"el total de su compra es:$\",subtotal)"
      ],
      "execution_count": null,
      "outputs": [
        {
          "output_type": "stream",
          "text": [
            "Calculando el total de la compra...\n",
            "el valor de la compra del papel higiencio es 28000\n",
            "---el subtotal es: 28000\n",
            "El valor del total de Shampoo es:$ 72000\n",
            "---el subtotal es:$ 100000\n",
            "el valor total de pañales es:$ 51000\n",
            "el total de su compra es:$ 151000\n"
          ],
          "name": "stdout"
        }
      ]
    },
    {
      "cell_type": "markdown",
      "metadata": {
        "id": "AovavcjFo1xZ"
      },
      "source": [
        "**Contadores**\n",
        "\n",
        "\n",
        "tiene mucha relacion con los \"acumuladores\" visto en el apartado anterior\n",
        "Estas variables se caracterizan por ser variables de control, es decir controlan la **cantidad** de veces que se ejecutan determinada accion.\n",
        "\n",
        "Usando el ejemplo anterior y modificandoo un poco, podemos desarrollar el siguient algoritmo"
      ]
    },
    {
      "cell_type": "code",
      "metadata": {
        "colab": {
          "base_uri": "https://localhost:8080/"
        },
        "id": "nuV7ty9Fpd37",
        "outputId": "704de749-70b0-491a-e8c6-656145afe9c4"
      },
      "source": [
        "#Se comprara pañales por unidad en este caso.\n",
        "\n",
        "contp = 0\n",
        "print(\"Se realizara la compra  de pañales etapa 3... se ha iniciado la compra de asignacion en el carrito. En total hay :\", contp, \"pañales\")\n",
        "contp = contp+1\n",
        "print(\"Se realizara la compra  de pañales etapa 3... se ha iniciado la compra de asignacion en el carrito. Ahora hay :\", contp, \"pañales\")\n",
        "contp = contp+1\n",
        "print(\"Ahora hay:\",contp,\"pañal1\")\n",
        "contp = contp+1\n",
        "print(\"Ahora hay:\",contp,\"pañal1\")\n",
        "contp = contp+1\n",
        "print(\"Ahora hay:\",contp,\"pañal1\")\n",
        "contp = contp+1\n",
        "print(\"Ahora hay:\",contp,\"pañal1\")"
      ],
      "execution_count": null,
      "outputs": [
        {
          "output_type": "stream",
          "text": [
            "Se realizara la compra  de pañales etapa 3... se ha iniciado la compra de asignacion en el carrito. En total hay : 0 pañales\n",
            "Se realizara la compra  de pañales etapa 3... se ha iniciado la compra de asignacion en el carrito. Ahora hay : 1 pañales\n",
            "Ahora hay: 2 pañal1\n",
            "Ahora hay: 3 pañal1\n",
            "Ahora hay: 4 pañal1\n",
            "Ahora hay: 5 pañal1\n"
          ],
          "name": "stdout"
        }
      ]
    },
    {
      "cell_type": "markdown",
      "metadata": {
        "id": "VUBttd_5q9Y-"
      },
      "source": [
        "**Ciclos controlados por condicicones**\n",
        "\n",
        "**WHILE**\n",
        "\n",
        "\n",
        "---\n",
        "Recordemos que las variables de control, nos permten manejar estados, pasar de un estado a otro es por ejemplo: una variable que no contiene elementos a contenerlo o una variable un elemento en particular (Acumulador o contador) y cambiarlo po completo(Bnadera)\n",
        "\n",
        "Estas Variables de cocntrol son la base de ciclos de control. Siendo mas claros, pasar de una accion manual a algo mas automatizado\n",
        "\n",
        "Empezamos con el ciclo \"WHILE\" En español es \"mientras\". Este ciclo compone una condiciion y su bloque de codigo\n",
        "loque nos quiere decir While es que el bloque de codigo se ejecutara mientrasc la condicion da como resultado True or False\n"
      ]
    },
    {
      "cell_type": "code",
      "metadata": {
        "colab": {
          "base_uri": "https://localhost:8080/"
        },
        "id": "nzsm9DpSsWYp",
        "outputId": "23256ac3-b56b-46fd-edd9-2899284ffe77"
      },
      "source": [
        "lapiz = 5\n",
        "contlapiz = 0\n",
        "print(\"Se ha iniciado la compra. en total hay :\", contlapiz,lapiz)\n",
        "\n",
        "while (contlapiz < lapiz):\n",
        "  contlapiz = contlapiz+1\n",
        "  print(\"Se ha realizado la compra de lapices ahora hay\",str(contlapiz) + \"lapiz\")\n",
        "  \n",
        "\n",
        "a = str(contlapiz)\n",
        "print(type(contlapiz))\n",
        "print(type(a))\n"
      ],
      "execution_count": null,
      "outputs": [
        {
          "output_type": "stream",
          "text": [
            "Se ha iniciado la compra. en total hay : 0 5\n",
            "Se ha realizado la compra de lapices ahora hay 1lapiz\n",
            "Se ha realizado la compra de lapices ahora hay 2lapiz\n",
            "Se ha realizado la compra de lapices ahora hay 3lapiz\n",
            "Se ha realizado la compra de lapices ahora hay 4lapiz\n",
            "Se ha realizado la compra de lapices ahora hay 5lapiz\n"
          ],
          "name": "stdout"
        }
      ]
    },
    {
      "cell_type": "markdown",
      "metadata": {
        "id": "QRp90OEovByf"
      },
      "source": [
        "Tener en cuenta que dentro del ciclo de WHILE se va afectando las variables implicadas en la declracion de la condicicon que debe cumplir el ciclo en el ejemplo anterior la variable contlapiz para que en algun momento la condicion sea vedadera  y termine el ciclo se tiene que cumplir la condicion(contlapiz). De lo contrario, tendriamos un ciclo que nunca se detendria, lo cual decantaria en un cilo interminable"
      ]
    },
    {
      "cell_type": "markdown",
      "metadata": {
        "id": "tYoI2q6hwBNS"
      },
      "source": [
        "**CICLO DE FOR**\n",
        "\n",
        "---\n",
        "Es un ciclo especializado y optimizado parta los ciclos controlados por cantidad. Se compone de tres elementos:\n",
        "1. la variable de iteraccion\n",
        "2. elemento de iteraccion\n",
        "3. bloque de ocdigo iterar\n",
        "\n",
        "**¿ventajas de usar el FOR ?**\n",
        "\n",
        "en PYTHON es muy importante y se considera una herramienta bastante flexible y poderos, por permitir ingresar estructuras de datos complejas, cadena de caracteres, rangos , entre otros. los elementos de iteraccion en esta estructura de datos, son necesarios que tengan la siguiente caracteristica :\n",
        "1. cantidad definida(Esto lo diferencia totalmente del WHILE)\n",
        "\n",
        "el WHILE parte de una condicion de verdad, pero el **FOR** parte de una cantidad definida\n",
        "\n"
      ]
    },
    {
      "cell_type": "code",
      "metadata": {
        "colab": {
          "base_uri": "https://localhost:8080/"
        },
        "id": "izvRfjohxNlX",
        "outputId": "7e618ec6-a265-4d05-83b5-9103b64039d0"
      },
      "source": [
        "##Retomando el ejemplo de la compra de lapices\n",
        "print(\"se ha iniciado la compra. En total hay:0 lapices.\")\n",
        "for i in range(1,6): # en los rangos, la funcion range maneja un intervalo abierto a la derecha y cerrado al a izquierda\n",
        "  print(\"Se ha realizado la ocmpra de lapices. Ahora hay\",i,\"lapices\")"
      ],
      "execution_count": null,
      "outputs": [
        {
          "output_type": "stream",
          "text": [
            "se ha iniciado la compra. En total hay:0 lapices.\n",
            "Se ha realizado la ocmpra de lapices. Ahora hay 1 lapices\n",
            "Se ha realizado la ocmpra de lapices. Ahora hay 2 lapices\n",
            "Se ha realizado la ocmpra de lapices. Ahora hay 3 lapices\n",
            "Se ha realizado la ocmpra de lapices. Ahora hay 4 lapices\n",
            "Se ha realizado la ocmpra de lapices. Ahora hay 5 lapices\n"
          ],
          "name": "stdout"
        }
      ]
    }
  ]
}