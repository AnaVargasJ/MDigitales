{
  "nbformat": 4,
  "nbformat_minor": 0,
  "metadata": {
    "colab": {
      "name": "Taller2_13Agosto.ipynb",
      "provenance": [],
      "authorship_tag": "ABX9TyO32XhtX5zBfTQ0XusPKySJ",
      "include_colab_link": true
    },
    "kernelspec": {
      "name": "python3",
      "display_name": "Python 3"
    },
    "language_info": {
      "name": "python"
    }
  },
  "cells": [
    {
      "cell_type": "markdown",
      "metadata": {
        "id": "view-in-github",
        "colab_type": "text"
      },
      "source": [
        "<a href=\"https://colab.research.google.com/github/AnaVargasJ/MDigitales/blob/main/Taller2_13Agosto.ipynb\" target=\"_parent\"><img src=\"https://colab.research.google.com/assets/colab-badge.svg\" alt=\"Open In Colab\"/></a>"
      ]
    },
    {
      "cell_type": "markdown",
      "metadata": {
        "id": "pE0akf8jjLqC"
      },
      "source": [
        "**Recordatorio**"
      ]
    },
    {
      "cell_type": "markdown",
      "metadata": {
        "id": "bWYEiXLl-B35"
      },
      "source": [
        "**Ejercicio de práctica**\n",
        "\n",
        "----\n",
        "\n",
        "Se le pide a la analista realizar una estimación poblacional a partir de información descriptiva relevante sobre la población de los países en vía de desarrollo,\n",
        "\n",
        "Para ello de inicio se solicita que se cree un programa que permita ingresar como prueba 5 países y su respectiva población e identificar que país tiene la mayor cantidad de habitantes."
      ]
    },
    {
      "cell_type": "code",
      "metadata": {
        "colab": {
          "base_uri": "https://localhost:8080/"
        },
        "id": "XpEhBAI5AJDv",
        "outputId": "731a57f0-5725-4787-b5ac-a5ae75bae06f"
      },
      "source": [
        "#EJEMPLO DE CLASE\n",
        "def poblacion():\n",
        "  pais=[]\n",
        "  for x in range(5):\n",
        "    nombre=input(\"Ingresa el nombre del pais:\")\n",
        "    cant=int(input(\"Ingrese la cantidad de habitantes:\"))\n",
        "    pais.append((nombre,cant))\n",
        "  return pais\n",
        "\n",
        "def view(pais):\n",
        "  print(\"Habitantes por país:\")\n",
        "  for x in range(len(pais)):\n",
        "    print(pais[x][0],pais[x][1])\n",
        "\n",
        "def mayor(pais):\n",
        "  p=0\n",
        "  for x in range(1,len(pais)):\n",
        "    if pais[x][1]>pais[p][1]:\n",
        "      p=x\n",
        "    print(\"El País con la más alta población registrada es:\",pais[p][0])\n",
        "\n",
        "pais=poblacion()\n",
        "view(pais)\n",
        "mayor(pais)"
      ],
      "execution_count": null,
      "outputs": [
        {
          "output_type": "stream",
          "text": [
            "Ingresa el nombre del pais:colombia\n",
            "Ingrese la cantidad de habitantes:125465\n",
            "Ingresa el nombre del pais:peru\n",
            "Ingrese la cantidad de habitantes:4654654\n",
            "Habitantes por país:\n",
            "colombia 125465\n",
            "peru 4654654\n",
            "El País con la más alta población registrada es: peru\n"
          ],
          "name": "stdout"
        }
      ]
    },
    {
      "cell_type": "markdown",
      "metadata": {
        "id": "wSpYuNpu-Tyc"
      },
      "source": [
        "**TALLER 2**\n",
        "---#\n",
        "\n",
        "Se solcita realizar un programa que permita identificar el nivel de cumplimiento del área de ventas de la empresa AVA. Entre los prinicipales requerimientos se encuentran los siguientes:\n",
        "\n",
        "1. Permite ingresar la cantidad de vendedores del área de ventas.\n",
        "2. Permite ingresar la puntiación por cada uno de ellos (escala de 1 a 10).\n",
        "3. El programa debe permitir identificar el vendedor con peor rendimiento y mejor rendimiento\n",
        "4. Obtener también el promedio general del nivel de cumplimiento del área de ventas.\n",
        "\n",
        "Nota: Si hay empate en la puntuación para definir el primer y último puesto, se define por order alfabetico.\n"
      ]
    },
    {
      "cell_type": "code",
      "metadata": {
        "id": "3DYW8Kjy3AHx",
        "colab": {
          "base_uri": "https://localhost:8080/"
        },
        "outputId": "657a8690-cfd3-43b4-e97b-ea88ae488061"
      },
      "source": [
        "\n",
        "numVend= int(input(\"ingrese la cantidad de vendedores\"))\n",
        "\n",
        "contador = 1\n",
        "suma = 0\n",
        "promedio = 0\n",
        "mayor = 0\n",
        "menor = 0\n",
        "cantidad = 0\n",
        "\n",
        "puntuacion = []\n",
        "\n",
        "while cantidad > 0 :\n",
        "\n",
        "  puntuacion =int(input(\"digite la puntuacion del vendedor en escala del 1 al 10\"))\n",
        "\n",
        "  puntuacion.append(punt)\n",
        "  contador +=1\n",
        "  suma += puntuacion\n",
        "  promedio = suma / puntuacion\n",
        "\n",
        "if numVend == 0:\n",
        "  mayor = max(puntuacion)\n",
        "  menor = min(puntuacion)\n",
        "  print(\"la mayor puntuacion es\", mayor)\n",
        "  print(\"la menor puntuacion es\", menor)\n",
        "  print(\"el promedio de las puntuaciones es\",promedio)\n",
        "\n",
        "\n",
        "\n"
      ],
      "execution_count": 35,
      "outputs": [
        {
          "output_type": "stream",
          "text": [
            "ingrese la cantidad de vendedores5\n"
          ],
          "name": "stdout"
        }
      ]
    }
  ]
}