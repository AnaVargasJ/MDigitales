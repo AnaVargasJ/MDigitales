{
  "nbformat": 4,
  "nbformat_minor": 0,
  "metadata": {
    "colab": {
      "name": "clase1.ipynb",
      "provenance": [],
      "collapsed_sections": [],
      "authorship_tag": "ABX9TyNgaBxwJWy5B7HyfCaDitj5",
      "include_colab_link": true
    },
    "kernelspec": {
      "name": "python3",
      "display_name": "Python 3"
    },
    "language_info": {
      "name": "python"
    }
  },
  "cells": [
    {
      "cell_type": "markdown",
      "metadata": {
        "id": "view-in-github",
        "colab_type": "text"
      },
      "source": [
        "<a href=\"https://colab.research.google.com/github/AnaVargasJ/MDigitales/blob/main/clase1.ipynb\" target=\"_parent\"><img src=\"https://colab.research.google.com/assets/colab-badge.svg\" alt=\"Open In Colab\"/></a>"
      ]
    },
    {
      "cell_type": "code",
      "metadata": {
        "id": "otZYq4iopsIC"
      },
      "source": [
        ""
      ],
      "execution_count": null,
      "outputs": []
    },
    {
      "cell_type": "markdown",
      "metadata": {
        "id": "rVaun0USraXY"
      },
      "source": [
        ""
      ]
    },
    {
      "cell_type": "markdown",
      "metadata": {
        "id": "mtGWQbfCptAI"
      },
      "source": [
        "**Introdcuccion**\n",
        "--\n",
        "\n",
        "para manejar un codigo limpio en python:\n",
        "podemos eguri las recomendaciones\n",
        "1. Manejar siempre en minuscula\n",
        "2. se le puede añadir numeros\n",
        "3. Aparecer errores si no estan seguidos la declaracion de la variable con el numero asignado, es decir. Ejemplo : ana1(correcto) ana 1(incorrecto)\n",
        "\n",
        "En python hay varios tipos d datos compuestos y estan disponibles por defecto en los interpretes.\n",
        "**¿de que tipos?**\n",
        "\n",
        "1. Numericos\n",
        "2. Secuencias\n",
        "3. Mapeos\n",
        "4. Conjuntos usados para agrupar otros valores\n",
        "\n",
        "**Diferencia entre constante y variable**\n",
        "en matematica llamamos constante a una magnitud que no cambia con el paso del tiempo.\n",
        "Ejemplo: compatibilidad:Gastos fijos_Muebles de oficina\n",
        "Ejemplo 2: 6\n",
        "\n",
        "por otro lado el concepto de variable, como cantidad que es susceptible a tomar distintos valores numericos.\n",
        "**Ejemplo**\n",
        "\n"
      ]
    },
    {
      "cell_type": "markdown",
      "metadata": {
        "id": "tX1klIsirex9"
      },
      "source": [
        "**Tipos de datos**\n",
        "---\n",
        "**Enteros:**\n",
        "son los numeros que no tienen decimales\n",
        "pueden ser positivos y negativos"
      ]
    },
    {
      "cell_type": "code",
      "metadata": {
        "colab": {
          "base_uri": "https://localhost:8080/"
        },
        "id": "V_Jnaia3r1m2",
        "outputId": "cee77329-1704-4a2b-ba2b-19dfe1a886db"
      },
      "source": [
        "a = int(3.964)\n",
        "print(a)"
      ],
      "execution_count": 1,
      "outputs": [
        {
          "output_type": "stream",
          "text": [
            "3\n"
          ],
          "name": "stdout"
        }
      ]
    },
    {
      "cell_type": "code",
      "metadata": {
        "colab": {
          "base_uri": "https://localhost:8080/",
          "height": 180
        },
        "id": "sdmzeePfsGnI",
        "outputId": "053aa7a0-95e4-4789-de42-fe7ab3f4b8a0"
      },
      "source": [
        "b=long(3)\n",
        "print(b,type(b))"
      ],
      "execution_count": 11,
      "outputs": [
        {
          "output_type": "error",
          "ename": "NameError",
          "evalue": "ignored",
          "traceback": [
            "\u001b[0;31m---------------------------------------------------------------------------\u001b[0m",
            "\u001b[0;31mNameError\u001b[0m                                 Traceback (most recent call last)",
            "\u001b[0;32m<ipython-input-11-54d0e850b8e1>\u001b[0m in \u001b[0;36m<module>\u001b[0;34m()\u001b[0m\n\u001b[0;32m----> 1\u001b[0;31m \u001b[0mb\u001b[0m\u001b[0;34m=\u001b[0m\u001b[0mlong\u001b[0m\u001b[0;34m(\u001b[0m\u001b[0;36m3\u001b[0m\u001b[0;34m)\u001b[0m\u001b[0;34m\u001b[0m\u001b[0;34m\u001b[0m\u001b[0m\n\u001b[0m\u001b[1;32m      2\u001b[0m \u001b[0mprint\u001b[0m\u001b[0;34m(\u001b[0m\u001b[0mb\u001b[0m\u001b[0;34m,\u001b[0m\u001b[0mtype\u001b[0m\u001b[0;34m(\u001b[0m\u001b[0mb\u001b[0m\u001b[0;34m)\u001b[0m\u001b[0;34m)\u001b[0m\u001b[0;34m\u001b[0m\u001b[0;34m\u001b[0m\u001b[0m\n",
            "\u001b[0;31mNameError\u001b[0m: name 'long' is not defined"
          ]
        }
      ]
    },
    {
      "cell_type": "markdown",
      "metadata": {
        "id": "g1h5VA3Xsk9_"
      },
      "source": [
        "el comando int es para hacer alsion a numeros enteros.A parte el comando float permite valores con decimales."
      ]
    },
    {
      "cell_type": "code",
      "metadata": {
        "colab": {
          "base_uri": "https://localhost:8080/"
        },
        "id": "I4EOTC_ksxJS",
        "outputId": "c05de4b8-8212-4315-8c5a-39e51e61d50f"
      },
      "source": [
        "b=float(8.23)\n",
        "print(b)\n"
      ],
      "execution_count": 2,
      "outputs": [
        {
          "output_type": "stream",
          "text": [
            "8.23\n"
          ],
          "name": "stdout"
        }
      ]
    },
    {
      "cell_type": "markdown",
      "metadata": {
        "id": "9sbDg94XtAw5"
      },
      "source": [
        "**Tipo Cadena**\n",
        "\n",
        "---\n",
        "Las cadenas son texto encerrado entre comillas (simples o dobles) y se pueden conformar de diferentes caracteres (Numericos, Albeticos, Especiales #$+*%). Tener en cuenta, las cadenasadmiten operadores como la suma y la resta.\n",
        "(Variable String)\n",
        "\n"
      ]
    },
    {
      "cell_type": "code",
      "metadata": {
        "colab": {
          "base_uri": "https://localhost:8080/"
        },
        "id": "E9XEJRi2t8qA",
        "outputId": "7cee9bcb-da42-419d-f882-18e6ff1128ee"
      },
      "source": [
        "val1=\"Hola mundo\"\n",
        "print(val1)\n",
        "\n",
        "val2=\"Ana\"\n",
        "print(val2)"
      ],
      "execution_count": 4,
      "outputs": [
        {
          "output_type": "stream",
          "text": [
            "Hola mundo\n",
            "Ana\n"
          ],
          "name": "stdout"
        }
      ]
    },
    {
      "cell_type": "code",
      "metadata": {
        "colab": {
          "base_uri": "https://localhost:8080/",
          "height": 231
        },
        "id": "kutFz9n6uFv1",
        "outputId": "f59a0b76-f151-4e0f-d479-294ea3c855b9"
      },
      "source": [
        "n=\"Aprender\"\n",
        "z=\"python\"\n",
        "w=\"Aprender python\"\n",
        "nz=n+\"\"+z\n",
        "print(w) \n",
        "\n",
        "q=\"5\"\n",
        "p=\"2\"\n",
        "b=int(q)\n",
        "c=int(p)\n",
        "print(b-c)"
      ],
      "execution_count": 9,
      "outputs": [
        {
          "output_type": "stream",
          "text": [
            "Aprender python\n"
          ],
          "name": "stdout"
        },
        {
          "output_type": "error",
          "ename": "TypeError",
          "evalue": "ignored",
          "traceback": [
            "\u001b[0;31m---------------------------------------------------------------------------\u001b[0m",
            "\u001b[0;31mTypeError\u001b[0m                                 Traceback (most recent call last)",
            "\u001b[0;32m<ipython-input-9-4a2f89992668>\u001b[0m in \u001b[0;36m<module>\u001b[0;34m()\u001b[0m\n\u001b[1;32m      7\u001b[0m \u001b[0mq\u001b[0m\u001b[0;34m=\u001b[0m\u001b[0;34m\"5\"\u001b[0m\u001b[0;34m\u001b[0m\u001b[0;34m\u001b[0m\u001b[0m\n\u001b[1;32m      8\u001b[0m \u001b[0mp\u001b[0m\u001b[0;34m=\u001b[0m\u001b[0;34m\"2\"\u001b[0m\u001b[0;34m\u001b[0m\u001b[0;34m\u001b[0m\u001b[0m\n\u001b[0;32m----> 9\u001b[0;31m \u001b[0ms\u001b[0m\u001b[0;34m=\u001b[0m\u001b[0mq\u001b[0m\u001b[0;34m-\u001b[0m\u001b[0mp\u001b[0m\u001b[0;34m\u001b[0m\u001b[0;34m\u001b[0m\u001b[0m\n\u001b[0m\u001b[1;32m     10\u001b[0m \u001b[0mprint\u001b[0m\u001b[0;34m(\u001b[0m\u001b[0ms\u001b[0m\u001b[0;34m)\u001b[0m\u001b[0;34m\u001b[0m\u001b[0;34m\u001b[0m\u001b[0m\n",
            "\u001b[0;31mTypeError\u001b[0m: unsupported operand type(s) for -: 'str' and 'str'"
          ]
        }
      ]
    },
    {
      "cell_type": "markdown",
      "metadata": {
        "id": "puodLg_WyEDX"
      },
      "source": [
        "**Tipo Bolleanos**\n",
        "\n",
        "---\n",
        "Este tipo de variable solo tendra un valor de Verdadero o falso.\n",
        "**Nota:**\n",
        "son valores muy usados en condiciones y bucless.\n",
        "\n",
        "\n",
        "\n"
      ]
    },
    {
      "cell_type": "code",
      "metadata": {
        "colab": {
          "base_uri": "https://localhost:8080/"
        },
        "id": "hrzeblUtyfuE",
        "outputId": "96d34172-70b1-46d1-e4ab-fcac80e8530f"
      },
      "source": [
        "lola = True\n",
        "print(\"El valor es verdadero:\",lola,\" el cual es de tipo\", type(lola))"
      ],
      "execution_count": 10,
      "outputs": [
        {
          "output_type": "stream",
          "text": [
            "El valor es verdadero: True  el cual es de tipo <class 'bool'>\n"
          ],
          "name": "stdout"
        }
      ]
    },
    {
      "cell_type": "code",
      "metadata": {
        "colab": {
          "base_uri": "https://localhost:8080/"
        },
        "id": "z3zvsDk6zLpr",
        "outputId": "871ac483-a58e-46d6-b6ed-2295f3aeb815"
      },
      "source": [
        "lola = False\n",
        "print(\"El valor es verdadero:\",lola,\" el cual es de tipo\", type(lola))"
      ],
      "execution_count": 12,
      "outputs": [
        {
          "output_type": "stream",
          "text": [
            "El valor es verdadero: False  el cual es de tipo <class 'bool'>\n"
          ],
          "name": "stdout"
        }
      ]
    },
    {
      "cell_type": "markdown",
      "metadata": {
        "id": "xLprDu38zStQ"
      },
      "source": [
        "python cuenta con tipos de datos que admiten colecciones:\n",
        "1. Listas\n",
        "2. tuplas\n",
        "3. diccionarios\n",
        "\n",
        "**Tipos de conjuntoss:**\n",
        "\n",
        "son una conexion de datos sin elementos que se repiten:\n"
      ]
    },
    {
      "cell_type": "code",
      "metadata": {
        "colab": {
          "base_uri": "https://localhost:8080/"
        },
        "id": "CrTdlNKP0Fa5",
        "outputId": "88a091bc-3982-4ae3-a142-4ab77e0ad102"
      },
      "source": [
        "fru='pera','manzana','naranja'\n",
        "color='morado', 'blanco', 'azul'\n",
        "print(fru,color)"
      ],
      "execution_count": 13,
      "outputs": [
        {
          "output_type": "stream",
          "text": [
            "('pera', 'manzana', 'naranja') ('morado', 'blanco', 'azul')\n"
          ],
          "name": "stdout"
        }
      ]
    },
    {
      "cell_type": "markdown",
      "metadata": {
        "id": "FdTQ5Tdk0kPh"
      },
      "source": [
        "**Tipo listas**\n",
        "\n",
        "---\n",
        "son listas l que almacenan vectores. \n",
        "las listan empiezan desde la posicion 0 \n",
        "Ejemplo de lista en python:\n",
        "\n"
      ]
    },
    {
      "cell_type": "code",
      "metadata": {
        "colab": {
          "base_uri": "https://localhost:8080/"
        },
        "id": "S8qElLjL07SL",
        "outputId": "7c7009d7-b6b1-48b4-8450-278b8d30d126"
      },
      "source": [
        "ines=['5','uva','lila','perro','celular','micro','botella','tetero','10']\n",
        "print(ines)\n",
        "fe=ines[1]\n",
        "fe = ines [0:2]  \n",
        "print(fe)"
      ],
      "execution_count": 17,
      "outputs": [
        {
          "output_type": "stream",
          "text": [
            "['5', 'uva', 'lila', 'perro']\n",
            "['uva']\n"
          ],
          "name": "stdout"
        }
      ]
    },
    {
      "cell_type": "markdown",
      "metadata": {
        "id": "v8JvODtr39of"
      },
      "source": [
        "**Tipo Tuplas**\n",
        "\n",
        "---\n",
        "Es una lista que no se puede modificar despue de la creacion de esta:\n",
        "Tuplas anidadas: Agrupacion(Tuplas)."
      ]
    },
    {
      "cell_type": "code",
      "metadata": {
        "colab": {
          "base_uri": "https://localhost:8080/"
        },
        "id": "I4qZ0WL74cEk",
        "outputId": "d486e7df-cb7d-4707-b61a-a819d1647245"
      },
      "source": [
        "tupla=23,28,'hola'\n",
        "print(tupla)\n",
        "otra=tupla,(1,2,3,4)\n",
        "print(otra)"
      ],
      "execution_count": 19,
      "outputs": [
        {
          "output_type": "stream",
          "text": [
            "(23, 28, 'hola')\n",
            "((23, 28, 'hola'), (1, 2, 3, 4))\n"
          ],
          "name": "stdout"
        }
      ]
    },
    {
      "cell_type": "code",
      "metadata": {
        "id": "LE8Rvtwa52vc"
      },
      "source": [
        "**Tipo Diccionarios**\n",
        "\n",
        "---\n",
        "Define los datos uno a uno entre un campo(ID.Identificador-Clave) y un valor:\n",
        "\n"
      ],
      "execution_count": null,
      "outputs": []
    },
    {
      "cell_type": "code",
      "metadata": {
        "colab": {
          "base_uri": "https://localhost:8080/"
        },
        "id": "Oz9PfEt06yUE",
        "outputId": "473d2eed-112d-43eb-f81f-1bda61fb6d20"
      },
      "source": [
        "datos_b={\n",
        "    \"nombres\":\"Diana\",\n",
        "    \"apellido\":\"Perea\",\n",
        "    \"Cedula\": \"2345671\",\n",
        "    \"estdo_civil\": \"Viuda\",\n",
        "    \"lugar _nacimiento\":\"Neiva\",\n",
        "    \"Fecha_nacimiento\":\"24/12/1980\",\n",
        "}\n",
        "print(\"ID del diccionario\", datos_b.keys())\n",
        "print(\"ID del diccionario\", datos_b.values())\n",
        "print(\"ID del diccionario\", datos_b.items())\n",
        "print(\"cedula de ciudadania:\", datos_b['fecha de nacimiento'])\n"
      ],
      "execution_count": 22,
      "outputs": [
        {
          "output_type": "stream",
          "text": [
            "ID del diccionario dict_keys(['nombres', 'apellido', 'Cedula', 'estdo_civil', 'lugar _nacimiento', 'Fecha_nacimiento'])\n",
            "ID del diccionario dict_values(['Diana', 'Perea', '2345671', 'Viuda', 'Neiva', '24/12/1980'])\n"
          ],
          "name": "stdout"
        }
      ]
    },
    {
      "cell_type": "markdown",
      "metadata": {
        "id": "4nbQupXP8mZz"
      },
      "source": [
        "**Ejemplo practico (Caracteristicas de los carros)**\n"
      ]
    },
    {
      "cell_type": "code",
      "metadata": {
        "colab": {
          "base_uri": "https://localhost:8080/"
        },
        "id": "T7MIQmHX8tVY",
        "outputId": "b983994e-0d81-4d35-f4dd-7bdfedbfed00"
      },
      "source": [
        "carros_0={}\n",
        "carros_0['tam']='grande'\n",
        "carros_0['color']='negro'\n",
        "carros_0['marca']='Renault'\n",
        "carros_0['precio']=60\n",
        "\n",
        "carros_1={}\n",
        "carros_1['tam']='pequeño'\n",
        "carros_1['color']='blanco'\n",
        "carros_1['marca']='chevrolet'\n",
        "carros_1['precio']=37\n",
        "print(carros_0)\n",
        "print(carros_1)\n",
        "\n",
        "compra0= carros_0['precio'] \n",
        "compra1=carros_1['precio']\n",
        "compratotal=compra0 + compra1\n",
        "\n",
        "print(\"la compra total fue de:\", compratotal)\n"
      ],
      "execution_count": 25,
      "outputs": [
        {
          "output_type": "stream",
          "text": [
            "{'tam': 'grande', 'color': 'negro', 'marca': 'Renault', 'precio': 60}\n",
            "{'tam': 'pequeño', 'color': 'blanco', 'marca': 'chevrolet', 'precio': 37}\n",
            "la compra total fue de: 97\n"
          ],
          "name": "stdout"
        }
      ]
    },
    {
      "cell_type": "markdown",
      "metadata": {
        "id": "Rn2KmyEc2tIy"
      },
      "source": [
        ""
      ]
    }
  ]
}