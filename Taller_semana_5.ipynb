{
  "nbformat": 4,
  "nbformat_minor": 0,
  "metadata": {
    "colab": {
      "name": "Taller semana 5.ipynb",
      "provenance": [],
      "collapsed_sections": [],
      "include_colab_link": true
    },
    "kernelspec": {
      "name": "python3",
      "display_name": "Python 3"
    },
    "language_info": {
      "name": "python"
    }
  },
  "cells": [
    {
      "cell_type": "markdown",
      "metadata": {
        "id": "view-in-github",
        "colab_type": "text"
      },
      "source": [
        "<a href=\"https://colab.research.google.com/github/AnaVargasJ/MDigitales/blob/main/Taller_semana_5.ipynb\" target=\"_parent\"><img src=\"https://colab.research.google.com/assets/colab-badge.svg\" alt=\"Open In Colab\"/></a>"
      ]
    },
    {
      "cell_type": "markdown",
      "metadata": {
        "id": "POi23B_G6wnG"
      },
      "source": [
        "Un fanático de pokemones le pide analizar los datos de pokemones, para esto se le proporciona un conjunto de datos en archivo csv. Este fanático le pide a usted como analista investigar cuales son los pokemones con mayor ataque."
      ]
    },
    {
      "cell_type": "code",
      "metadata": {
        "id": "k7kCoay597D2"
      },
      "source": [
        "import pandas as pd\n",
        "import matplotlib.pyplot as plt\n",
        "import seaborn as sns\n",
        "from scipy import stats"
      ],
      "execution_count": 3,
      "outputs": []
    },
    {
      "cell_type": "code",
      "metadata": {
        "id": "wx9ixLT6EmQv",
        "colab": {
          "base_uri": "https://localhost:8080/",
          "height": 508
        },
        "outputId": "b368303e-ef64-4a49-a874-6a342300afc4"
      },
      "source": [
        "url = 'https://raw.githubusercontent.com/AnaVargasJ/pandas/main/pokemon_data%20(1).csv'\n",
        "pk = pd.read_csv(url)\n",
        "pk"
      ],
      "execution_count": 4,
      "outputs": [
        {
          "output_type": "execute_result",
          "data": {
            "text/html": [
              "<div>\n",
              "<style scoped>\n",
              "    .dataframe tbody tr th:only-of-type {\n",
              "        vertical-align: middle;\n",
              "    }\n",
              "\n",
              "    .dataframe tbody tr th {\n",
              "        vertical-align: top;\n",
              "    }\n",
              "\n",
              "    .dataframe thead th {\n",
              "        text-align: right;\n",
              "    }\n",
              "</style>\n",
              "<table border=\"1\" class=\"dataframe\">\n",
              "  <thead>\n",
              "    <tr style=\"text-align: right;\">\n",
              "      <th></th>\n",
              "      <th>#</th>\n",
              "      <th>Name</th>\n",
              "      <th>Type 1</th>\n",
              "      <th>Type 2</th>\n",
              "      <th>HP</th>\n",
              "      <th>Attack</th>\n",
              "      <th>Defense</th>\n",
              "      <th>Sp. Atk</th>\n",
              "      <th>Sp. Def</th>\n",
              "      <th>Speed</th>\n",
              "      <th>Generation</th>\n",
              "      <th>Legendary</th>\n",
              "    </tr>\n",
              "  </thead>\n",
              "  <tbody>\n",
              "    <tr>\n",
              "      <th>0</th>\n",
              "      <td>1</td>\n",
              "      <td>Bulbasaur</td>\n",
              "      <td>Grass</td>\n",
              "      <td>Poison</td>\n",
              "      <td>45</td>\n",
              "      <td>49</td>\n",
              "      <td>49</td>\n",
              "      <td>65</td>\n",
              "      <td>65</td>\n",
              "      <td>45</td>\n",
              "      <td>1</td>\n",
              "      <td>False</td>\n",
              "    </tr>\n",
              "    <tr>\n",
              "      <th>1</th>\n",
              "      <td>2</td>\n",
              "      <td>Ivysaur</td>\n",
              "      <td>Grass</td>\n",
              "      <td>Poison</td>\n",
              "      <td>60</td>\n",
              "      <td>62</td>\n",
              "      <td>63</td>\n",
              "      <td>80</td>\n",
              "      <td>80</td>\n",
              "      <td>60</td>\n",
              "      <td>1</td>\n",
              "      <td>False</td>\n",
              "    </tr>\n",
              "    <tr>\n",
              "      <th>2</th>\n",
              "      <td>3</td>\n",
              "      <td>Venusaur</td>\n",
              "      <td>Grass</td>\n",
              "      <td>Poison</td>\n",
              "      <td>80</td>\n",
              "      <td>82</td>\n",
              "      <td>83</td>\n",
              "      <td>100</td>\n",
              "      <td>100</td>\n",
              "      <td>80</td>\n",
              "      <td>1</td>\n",
              "      <td>False</td>\n",
              "    </tr>\n",
              "    <tr>\n",
              "      <th>3</th>\n",
              "      <td>3</td>\n",
              "      <td>VenusaurMega Venusaur</td>\n",
              "      <td>Grass</td>\n",
              "      <td>Poison</td>\n",
              "      <td>80</td>\n",
              "      <td>100</td>\n",
              "      <td>123</td>\n",
              "      <td>122</td>\n",
              "      <td>120</td>\n",
              "      <td>80</td>\n",
              "      <td>1</td>\n",
              "      <td>False</td>\n",
              "    </tr>\n",
              "    <tr>\n",
              "      <th>4</th>\n",
              "      <td>4</td>\n",
              "      <td>Charmander</td>\n",
              "      <td>Fire</td>\n",
              "      <td>NaN</td>\n",
              "      <td>39</td>\n",
              "      <td>52</td>\n",
              "      <td>43</td>\n",
              "      <td>60</td>\n",
              "      <td>50</td>\n",
              "      <td>65</td>\n",
              "      <td>1</td>\n",
              "      <td>False</td>\n",
              "    </tr>\n",
              "    <tr>\n",
              "      <th>...</th>\n",
              "      <td>...</td>\n",
              "      <td>...</td>\n",
              "      <td>...</td>\n",
              "      <td>...</td>\n",
              "      <td>...</td>\n",
              "      <td>...</td>\n",
              "      <td>...</td>\n",
              "      <td>...</td>\n",
              "      <td>...</td>\n",
              "      <td>...</td>\n",
              "      <td>...</td>\n",
              "      <td>...</td>\n",
              "    </tr>\n",
              "    <tr>\n",
              "      <th>795</th>\n",
              "      <td>719</td>\n",
              "      <td>Diancie</td>\n",
              "      <td>Rock</td>\n",
              "      <td>Fairy</td>\n",
              "      <td>50</td>\n",
              "      <td>100</td>\n",
              "      <td>150</td>\n",
              "      <td>100</td>\n",
              "      <td>150</td>\n",
              "      <td>50</td>\n",
              "      <td>6</td>\n",
              "      <td>True</td>\n",
              "    </tr>\n",
              "    <tr>\n",
              "      <th>796</th>\n",
              "      <td>719</td>\n",
              "      <td>DiancieMega Diancie</td>\n",
              "      <td>Rock</td>\n",
              "      <td>Fairy</td>\n",
              "      <td>50</td>\n",
              "      <td>160</td>\n",
              "      <td>110</td>\n",
              "      <td>160</td>\n",
              "      <td>110</td>\n",
              "      <td>110</td>\n",
              "      <td>6</td>\n",
              "      <td>True</td>\n",
              "    </tr>\n",
              "    <tr>\n",
              "      <th>797</th>\n",
              "      <td>720</td>\n",
              "      <td>HoopaHoopa Confined</td>\n",
              "      <td>Psychic</td>\n",
              "      <td>Ghost</td>\n",
              "      <td>80</td>\n",
              "      <td>110</td>\n",
              "      <td>60</td>\n",
              "      <td>150</td>\n",
              "      <td>130</td>\n",
              "      <td>70</td>\n",
              "      <td>6</td>\n",
              "      <td>True</td>\n",
              "    </tr>\n",
              "    <tr>\n",
              "      <th>798</th>\n",
              "      <td>720</td>\n",
              "      <td>HoopaHoopa Unbound</td>\n",
              "      <td>Psychic</td>\n",
              "      <td>Dark</td>\n",
              "      <td>80</td>\n",
              "      <td>160</td>\n",
              "      <td>60</td>\n",
              "      <td>170</td>\n",
              "      <td>130</td>\n",
              "      <td>80</td>\n",
              "      <td>6</td>\n",
              "      <td>True</td>\n",
              "    </tr>\n",
              "    <tr>\n",
              "      <th>799</th>\n",
              "      <td>721</td>\n",
              "      <td>Volcanion</td>\n",
              "      <td>Fire</td>\n",
              "      <td>Water</td>\n",
              "      <td>80</td>\n",
              "      <td>110</td>\n",
              "      <td>120</td>\n",
              "      <td>130</td>\n",
              "      <td>90</td>\n",
              "      <td>70</td>\n",
              "      <td>6</td>\n",
              "      <td>True</td>\n",
              "    </tr>\n",
              "  </tbody>\n",
              "</table>\n",
              "<p>800 rows × 12 columns</p>\n",
              "</div>"
            ],
            "text/plain": [
              "       #                   Name   Type 1  ... Speed  Generation  Legendary\n",
              "0      1              Bulbasaur    Grass  ...    45           1      False\n",
              "1      2                Ivysaur    Grass  ...    60           1      False\n",
              "2      3               Venusaur    Grass  ...    80           1      False\n",
              "3      3  VenusaurMega Venusaur    Grass  ...    80           1      False\n",
              "4      4             Charmander     Fire  ...    65           1      False\n",
              "..   ...                    ...      ...  ...   ...         ...        ...\n",
              "795  719                Diancie     Rock  ...    50           6       True\n",
              "796  719    DiancieMega Diancie     Rock  ...   110           6       True\n",
              "797  720    HoopaHoopa Confined  Psychic  ...    70           6       True\n",
              "798  720     HoopaHoopa Unbound  Psychic  ...    80           6       True\n",
              "799  721              Volcanion     Fire  ...    70           6       True\n",
              "\n",
              "[800 rows x 12 columns]"
            ]
          },
          "metadata": {},
          "execution_count": 4
        }
      ]
    },
    {
      "cell_type": "markdown",
      "metadata": {
        "id": "WWVZnKFY9xsD"
      },
      "source": [
        "z# Ejercicio 1:\n",
        "\n",
        "Calcule el promedio y la mediana del ataque de: \n",
        "1. Todos los pokemones\n",
        "2. Los pokemones agrupados por Legendary (es decir el promedio y mediana de pokemones legendarios y no legendarios)\n",
        "3. Los pokemones agrupados por Type 1"
      ]
    },
    {
      "cell_type": "code",
      "metadata": {
        "colab": {
          "base_uri": "https://localhost:8080/"
        },
        "id": "hJZH1O8O-isI",
        "outputId": "da8db8a4-a4e0-479a-afe0-c2c8b8a7f980"
      },
      "source": [
        "#promedio y mediana todos los pokemones\n",
        "\n",
        "\n",
        "mediana = pd.Series(pk['Attack'])\n",
        "mediana.median()\n",
        "promedio = pk['Attack'].mean()\n",
        "\n",
        "print(\"El promedio de Attack es de: \", promedio) \n",
        "print(\"La mediana de Attack es de: \", mediana.median())"
      ],
      "execution_count": 5,
      "outputs": [
        {
          "output_type": "stream",
          "name": "stdout",
          "text": [
            "El promedio de Attack es de:  79.00125\n",
            "La mediana de Attack es de:  75.0\n"
          ]
        }
      ]
    },
    {
      "cell_type": "code",
      "metadata": {
        "colab": {
          "base_uri": "https://localhost:8080/"
        },
        "id": "BrpjvaPM-lTH",
        "outputId": "e64700e0-e0ea-4866-99c3-250491a8bd1d"
      },
      "source": [
        "#Promedio y mediana de los pokemones por Legendary\n",
        "\n",
        "datos = pk.groupby('Legendary').apply(lambda x:[x['Attack'].mean()])\n",
        "print(\"Los promedios agrupados por legendary son: \", datos)\n",
        "\n",
        "median = pk.groupby('Legendary').apply(lambda x:[x['Attack'].median()])\n",
        "print(\"La mediana agrupada por legendary es: \", median)"
      ],
      "execution_count": 6,
      "outputs": [
        {
          "output_type": "stream",
          "name": "stdout",
          "text": [
            "Los promedios agrupados por legendary son:  Legendary\n",
            "False     [75.66938775510204]\n",
            "True     [116.67692307692307]\n",
            "dtype: object\n",
            "La mediana agrupada por legendary es:  Legendary\n",
            "False     [72.0]\n",
            "True     [110.0]\n",
            "dtype: object\n"
          ]
        }
      ]
    },
    {
      "cell_type": "code",
      "metadata": {
        "colab": {
          "base_uri": "https://localhost:8080/"
        },
        "id": "-st7OmB_-o7l",
        "outputId": "8e3541ec-1be1-4537-8e2f-c28977325fc9"
      },
      "source": [
        "#Promedio y Mediana agrupados por Type 1\n",
        "\n",
        "promType = pk.groupby('Type 1').apply(lambda x:[x['Attack'].mean()])\n",
        "print(\"Los promedios agrupados por Type 1 son: \", promType)\n",
        "\n",
        "medianType = pk.groupby('Type 1').apply(lambda x:[x['Attack'].median()])\n",
        "print(\"La mediana agrupada por Type 1 es: \", medianType)"
      ],
      "execution_count": 7,
      "outputs": [
        {
          "output_type": "stream",
          "name": "stdout",
          "text": [
            "Los promedios agrupados por Type 1 son:  Type 1\n",
            "Bug          [70.97101449275362]\n",
            "Dark         [88.38709677419355]\n",
            "Dragon                 [112.125]\n",
            "Electric      [69.0909090909091]\n",
            "Fairy       [61.529411764705884]\n",
            "Fighting     [96.77777777777777]\n",
            "Fire         [84.76923076923077]\n",
            "Flying                   [78.75]\n",
            "Ghost                 [73.78125]\n",
            "Grass        [73.21428571428571]\n",
            "Ground                   [95.75]\n",
            "Ice                      [72.75]\n",
            "Normal       [73.46938775510205]\n",
            "Poison       [74.67857142857143]\n",
            "Psychic      [71.45614035087719]\n",
            "Rock         [92.86363636363636]\n",
            "Steel        [92.70370370370371]\n",
            "Water        [74.15178571428571]\n",
            "dtype: object\n",
            "La mediana agrupada por Type 1 es:  Type 1\n",
            "Bug          [65.0]\n",
            "Dark         [88.0]\n",
            "Dragon      [113.5]\n",
            "Electric     [65.0]\n",
            "Fairy        [52.0]\n",
            "Fighting    [100.0]\n",
            "Fire         [84.5]\n",
            "Flying       [85.0]\n",
            "Ghost        [66.0]\n",
            "Grass        [70.0]\n",
            "Ground       [85.0]\n",
            "Ice          [67.0]\n",
            "Normal       [70.5]\n",
            "Poison       [74.0]\n",
            "Psychic      [57.0]\n",
            "Rock         [95.0]\n",
            "Steel        [89.0]\n",
            "Water        [72.0]\n",
            "dtype: object\n"
          ]
        }
      ]
    },
    {
      "cell_type": "markdown",
      "metadata": {
        "id": "icVwAqRB-71l"
      },
      "source": [
        "## Ejercicio 2:\n",
        "\n",
        "Grafique el ataque de los pokemones con un grafico boxplot para los siguientes casos:\n",
        "1. Todos los pokemones\n",
        "2. Los pokemones agrupados por Legendary (es decir el promedio y mediana de pokemones legendarios y no legendarios)\n",
        "3. Los pokemones agrupados por Type 1"
      ]
    },
    {
      "cell_type": "code",
      "metadata": {
        "colab": {
          "base_uri": "https://localhost:8080/",
          "height": 265
        },
        "id": "JJacBAgY-vJA",
        "outputId": "1509be64-f42e-49f6-ae3f-50fed4ba592d"
      },
      "source": [
        "# PUNTO 1\n",
        "\n",
        "import matplotlib.pyplot as plt\n",
        "# plt.title('Ataque de los pokemones')\n",
        "# pk.Attack.plot.hist(bins=100)\n",
        "# plt.show()\n",
        "# pk[\"Name\"] = pd.qcut(pk.Attack, 10)\n",
        "pk.boxplot(column=\"Attack\")\n",
        "plt.show()"
      ],
      "execution_count": 8,
      "outputs": [
        {
          "output_type": "display_data",
          "data": {
            "image/png": "[encoded data removed]",
            "text/plain": [
              "<Figure size 432x288 with 1 Axes>"
            ]
          },
          "metadata": {
            "needs_background": "light"
          }
        }
      ]
    },
    {
      "cell_type": "code",
      "metadata": {
        "colab": {
          "base_uri": "https://localhost:8080/",
          "height": 575
        },
        "id": "u_sugEv1-xqP",
        "outputId": "30f3c14f-dec2-456f-e5d8-fb6bf29e9bbc"
      },
      "source": [
        "#PUNTO 2\n",
        "\n",
        "# grupo = pk.groupby('Legendary')\n",
        "import matplotlib.pyplot as plt\n",
        "get_ipython().run_line_magic('matplotlib', 'inline')\n",
        "plt.rcParams['figure.figsize'] = (8,4)\n",
        "print(pk.head(8))\n",
        "pk.boxplot(by=[\"Legendary\"], grid='True', column=[\"Attack\"], color='red' )\n",
        "# grupo.boxplot(column=\"Attack\")\n",
        "# plt.show()\n",
        "\n",
        "# plt.show()"
      ],
      "execution_count": 9,
      "outputs": [
        {
          "output_type": "stream",
          "name": "stdout",
          "text": [
            "   #                       Name Type 1  ... Speed  Generation  Legendary\n",
            "0  1                  Bulbasaur  Grass  ...    45           1      False\n",
            "1  2                    Ivysaur  Grass  ...    60           1      False\n",
            "2  3                   Venusaur  Grass  ...    80           1      False\n",
            "3  3      VenusaurMega Venusaur  Grass  ...    80           1      False\n",
            "4  4                 Charmander   Fire  ...    65           1      False\n",
            "5  5                 Charmeleon   Fire  ...    80           1      False\n",
            "6  6                  Charizard   Fire  ...   100           1      False\n",
            "7  6  CharizardMega Charizard X   Fire  ...   100           1      False\n",
            "\n",
            "[8 rows x 12 columns]\n"
          ]
        },
        {
          "output_type": "stream",
          "name": "stderr",
          "text": [
            "/usr/local/lib/python3.7/dist-packages/numpy/core/_asarray.py:83: VisibleDeprecationWarning: Creating an ndarray from ragged nested sequences (which is a list-or-tuple of lists-or-tuples-or ndarrays with different lengths or shapes) is deprecated. If you meant to do this, you must specify 'dtype=object' when creating the ndarray\n",
            "  return array(a, dtype, copy=False, order=order)\n"
          ]
        },
        {
          "output_type": "execute_result",
          "data": {
            "text/plain": [
              "<matplotlib.axes._subplots.AxesSubplot at 0x7f4b71932d50>"
            ]
          },
          "metadata": {},
          "execution_count": 9
        },
        {
          "output_type": "display_data",
          "data": {
            "image/png": "[encoded data removed]",
            "text/plain": [
              "<Figure size 576x288 with 1 Axes>"
            ]
          },
          "metadata": {
            "needs_background": "light"
          }
        }
      ]
    },
    {
      "cell_type": "code",
      "metadata": {
        "colab": {
          "base_uri": "https://localhost:8080/",
          "height": 575
        },
        "id": "d4Vg7fNd-5V8",
        "outputId": "3e42784e-2c07-4398-f267-83d149dbdb1e"
      },
      "source": [
        "#PUNTO 3\n",
        "import pandas as pd\n",
        "url = 'https://raw.githubusercontent.com/AnaVargasJ/pandas/main/pokemon_data%20(1).csv'\n",
        "pk2 = pd.read_csv(url)\n",
        "import matplotlib.pyplot as plt\n",
        "get_ipython().run_line_magic('matplotlib', 'inline')\n",
        "plt.rcParams['figure.figsize'] = (8,4)\n",
        "print(pk2.head(8))\n",
        "pk.boxplot(by=[\"Type 1\"], grid='True', column=[\"Attack\"], color='blue' )"
      ],
      "execution_count": 10,
      "outputs": [
        {
          "output_type": "stream",
          "name": "stdout",
          "text": [
            "   #                       Name Type 1  ... Speed  Generation  Legendary\n",
            "0  1                  Bulbasaur  Grass  ...    45           1      False\n",
            "1  2                    Ivysaur  Grass  ...    60           1      False\n",
            "2  3                   Venusaur  Grass  ...    80           1      False\n",
            "3  3      VenusaurMega Venusaur  Grass  ...    80           1      False\n",
            "4  4                 Charmander   Fire  ...    65           1      False\n",
            "5  5                 Charmeleon   Fire  ...    80           1      False\n",
            "6  6                  Charizard   Fire  ...   100           1      False\n",
            "7  6  CharizardMega Charizard X   Fire  ...   100           1      False\n",
            "\n",
            "[8 rows x 12 columns]\n"
          ]
        },
        {
          "output_type": "stream",
          "name": "stderr",
          "text": [
            "/usr/local/lib/python3.7/dist-packages/numpy/core/_asarray.py:83: VisibleDeprecationWarning: Creating an ndarray from ragged nested sequences (which is a list-or-tuple of lists-or-tuples-or ndarrays with different lengths or shapes) is deprecated. If you meant to do this, you must specify 'dtype=object' when creating the ndarray\n",
            "  return array(a, dtype, copy=False, order=order)\n"
          ]
        },
        {
          "output_type": "execute_result",
          "data": {
            "text/plain": [
              "<matplotlib.axes._subplots.AxesSubplot at 0x7f4b71996310>"
            ]
          },
          "metadata": {},
          "execution_count": 10
        },
        {
          "output_type": "display_data",
          "data": {
            "image/png": "[encoded data removed]",
            "text/plain": [
              "<Figure size 576x288 with 1 Axes>"
            ]
          },
          "metadata": {
            "needs_background": "light"
          }
        }
      ]
    },
    {
      "cell_type": "markdown",
      "metadata": {
        "id": "tO65sHNiAmU9"
      },
      "source": [
        "## Ejercicio 3:\n",
        "\n",
        "Realice las siguientes pruebas de hipótesis:\n",
        "1. El promedio del ataque de los pokemones es mayor a 77\n",
        "2. El promedio del ataque de los pokemones legendarios es diferente a los no legendarios\n",
        "\n",
        "\n",
        "Y determine con un nivel de significancia del 5% (es decir $\\alpha$ = 0.05), si podemos rechazar o no las 3 hipótesis anteriores. "
      ]
    },
    {
      "cell_type": "code",
      "metadata": {
        "id": "CR-MSzes_Cin"
      },
      "source": [
        "from scipy import stats\n",
        "α = 0.05 \n",
        "T, p = stats.ttest_1samp(pk['Attack'], popmean=77)"
      ],
      "execution_count": 12,
      "outputs": []
    },
    {
      "cell_type": "code",
      "metadata": {
        "colab": {
          "base_uri": "https://localhost:8080/"
        },
        "id": "fcrsZ8VU_EpC",
        "outputId": "cec8b989-12bd-42e1-8c9b-8ac55b45e700"
      },
      "source": [
        "p < α"
      ],
      "execution_count": 13,
      "outputs": [
        {
          "output_type": "execute_result",
          "data": {
            "text/plain": [
              "False"
            ]
          },
          "metadata": {},
          "execution_count": 13
        }
      ]
    },
    {
      "cell_type": "code",
      "metadata": {
        "colab": {
          "base_uri": "https://localhost:8080/"
        },
        "id": "uf2CZ-S8_IJc",
        "outputId": "fc190032-f27d-4f85-c194-d7ecd7442f11"
      },
      "source": [
        "p>α"
      ],
      "execution_count": 14,
      "outputs": [
        {
          "output_type": "execute_result",
          "data": {
            "text/plain": [
              "True"
            ]
          },
          "metadata": {},
          "execution_count": 14
        }
      ]
    },
    {
      "cell_type": "code",
      "metadata": {
        "colab": {
          "base_uri": "https://localhost:8080/",
          "height": 143
        },
        "id": "OIXBvqyC_Kcy",
        "outputId": "15f8bdf8-2c50-4625-bb2f-ce11f44fa058"
      },
      "source": [
        "datos_2 = pk[['Legendary', 'Attack']].groupby('Legendary').mean()\n",
        "round(datos_2, 5)"
      ],
      "execution_count": 15,
      "outputs": [
        {
          "output_type": "execute_result",
          "data": {
            "text/html": [
              "<div>\n",
              "<style scoped>\n",
              "    .dataframe tbody tr th:only-of-type {\n",
              "        vertical-align: middle;\n",
              "    }\n",
              "\n",
              "    .dataframe tbody tr th {\n",
              "        vertical-align: top;\n",
              "    }\n",
              "\n",
              "    .dataframe thead th {\n",
              "        text-align: right;\n",
              "    }\n",
              "</style>\n",
              "<table border=\"1\" class=\"dataframe\">\n",
              "  <thead>\n",
              "    <tr style=\"text-align: right;\">\n",
              "      <th></th>\n",
              "      <th>Attack</th>\n",
              "    </tr>\n",
              "    <tr>\n",
              "      <th>Legendary</th>\n",
              "      <th></th>\n",
              "    </tr>\n",
              "  </thead>\n",
              "  <tbody>\n",
              "    <tr>\n",
              "      <th>False</th>\n",
              "      <td>75.66939</td>\n",
              "    </tr>\n",
              "    <tr>\n",
              "      <th>True</th>\n",
              "      <td>116.67692</td>\n",
              "    </tr>\n",
              "  </tbody>\n",
              "</table>\n",
              "</div>"
            ],
            "text/plain": [
              "              Attack\n",
              "Legendary           \n",
              "False       75.66939\n",
              "True       116.67692"
            ]
          },
          "metadata": {},
          "execution_count": 15
        }
      ]
    },
    {
      "cell_type": "code",
      "metadata": {
        "colab": {
          "base_uri": "https://localhost:8080/"
        },
        "id": "dpezrlqa_NYK",
        "outputId": "abf13653-61ab-4dbb-a62e-bf150d47025a"
      },
      "source": [
        "true = pk[pk['Legendary']== 'True'].Attack\n",
        "false = pk[pk['Legendary']== 'False'].Attack\n",
        "\n",
        "statistic, pvalue = stats.ttest_ind(true, false, equal_var=False)\n",
        "statistic, pvalue"
      ],
      "execution_count": 16,
      "outputs": [
        {
          "output_type": "execute_result",
          "data": {
            "text/plain": [
              "(nan, nan)"
            ]
          },
          "metadata": {},
          "execution_count": 16
        }
      ]
    }
  ]
}