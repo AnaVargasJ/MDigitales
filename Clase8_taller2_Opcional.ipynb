{
  "nbformat": 4,
  "nbformat_minor": 0,
  "metadata": {
    "colab": {
      "name": "Clase8_taller2_Opcional.ipynb",
      "provenance": [],
      "include_colab_link": true
    },
    "kernelspec": {
      "display_name": "Python 3",
      "language": "python",
      "name": "python3"
    },
    "language_info": {
      "codemirror_mode": {
        "name": "ipython",
        "version": 3
      },
      "file_extension": ".py",
      "mimetype": "text/x-python",
      "name": "python",
      "nbconvert_exporter": "python",
      "pygments_lexer": "ipython3",
      "version": "3.8.8"
    }
  },
  "cells": [
    {
      "cell_type": "markdown",
      "metadata": {
        "id": "view-in-github",
        "colab_type": "text"
      },
      "source": [
        "<a href=\"https://colab.research.google.com/github/AnaVargasJ/MDigitales/blob/main/Clase8_taller2_Opcional.ipynb\" target=\"_parent\"><img src=\"https://colab.research.google.com/assets/colab-badge.svg\" alt=\"Open In Colab\"/></a>"
      ]
    },
    {
      "cell_type": "markdown",
      "metadata": {
        "id": "-bI94zr5de-E"
      },
      "source": [
        "## Taller opcional 2"
      ]
    },
    {
      "cell_type": "markdown",
      "metadata": {
        "id": "W4vZHp657u65"
      },
      "source": [
        "**Ejercicio 1**\n",
        "\n",
        "---\n",
        "Se le pide a la analista realizar una estimación poblacional a partir de información descriptiva relevante sobre la población de los países en vía de desarrollo.\n",
        "\n",
        "Para ello de inicio se solicita que se cree una función que reciba como argumento una lista de listas con los siguientes datos:\n",
        "\n",
        "```['Nombre del país', habitantes, área]```\n",
        "\n",
        "\n",
        "La función debe devolver el país con la población mas alta y el país con la densidad poblacional mas alta ( esto es ```habitantes / área```)\n",
        "\n",
        "Por ejemplo:\n",
        "Al llamar la función con los siguientes argumentos:\n",
        "```poblacion([['Colombia', 8, 4], ['Peru', 3, 1]])```\n",
        "\n",
        "Debería devolver:\n",
        "```\n",
        "Población más alta: Colombia\n",
        "Ddensidad poblacional mas alta: Peru\n",
        "```"
      ]
    },
    {
      "cell_type": "code",
      "metadata": {
        "id": "hHw6CNhFde-Q"
      },
      "source": [
        "def poblacion():\n",
        "  pais=[]\n",
        "  for x in range(2):\n",
        "    nombre=input(\"Ingresa el nombre del pais:\")\n",
        "    cant=int(input(\"Ingrese la cantidad de habitantes:\"))\n",
        "    km= int(input(\"ingrese el area:\"))\n",
        "    den= cant/km\n",
        "    pais.append((nombre,cant,km,den))\n",
        "  return pais\n",
        "\n",
        "def habitantes(pais):\n",
        "  print(\"Habitantes por país:\")\n",
        "  for x in range(len(pais)):\n",
        "    print(pais[x][0],pais[x][1])\n",
        "\n",
        "\n",
        "def mayor(pais):\n",
        "  p=0\n",
        "  for x in range(1,len(pais)):\n",
        "    if pais[x][1]>pais[p][1]:\n",
        "      p=x\n",
        "    print(\"El País con la más alta población registrada es:\",pais[p][1], pais[p][0])\n",
        "\n",
        "def area(pais):\n",
        "  p=0\n",
        "  for x in range(1,len(pais)):\n",
        "    if pais[x][2]>pais[p][2]:\n",
        "      p=x\n",
        "    print(\"el area mayor es:\",pais[p][2],pais[p][0])\n",
        "\n",
        "\n",
        "def densidad(pais):\n",
        "  p=0\n",
        "  for x in range(1,len(pais)):\n",
        "    if pais[x][3]>pais[p][3]:\n",
        "      p=x\n",
        "    print(\"la densidad poblacional mas alta es:\",pais[p][0], pais[p][3])\n",
        "\n",
        "\n",
        "pais=poblacion()\n",
        "habitantes(pais)\n",
        "mayor(pais)\n",
        "area(pais)\n",
        "densidad(pais)\n",
        "\n",
        "\n",
        "\n",
        "\n",
        "\n",
        "\n",
        "\n",
        "\n",
        "\n",
        "\n",
        "\n",
        "\n"
      ],
      "execution_count": null,
      "outputs": []
    },
    {
      "cell_type": "markdown",
      "metadata": {
        "id": "em_-ywrKE2I1"
      },
      "source": [
        "**Ejercicio 2**\n",
        "\n",
        "---\n",
        "Se solicita realizar un programa que permita identificar el nivel de cumplimiento del area de ventas de la empresa AVA. Entre los principales requerimientos se encuentran los siguientes:\n",
        "\n",
        "1. Escribir una función que reciba los datos de los vendedores como un diccionario, en donde la llave sea el nombre del vendedor y el valor sea una tupla con la calificación (escala de 1 a 10) y faltas al puesto de trabajo, así: ```{'Juan':(8,1)}```\n",
        "2. El programa debe permitir identificar el vendedor con peor rendimiento y mejor rendimiento.\n",
        "3. Obtener también el promedio general del nivel de rendimiento del área de ventas.\n",
        "4. Los vendedores con un número de faltas por encima del promedio como una lista.\n",
        "\n",
        "Por ejemplo:\n",
        "\n",
        "Al llamar la función con los siguientes argumentos: ```ventas({'Juan':(8,1), 'Pablo':(6,3)})```\n",
        "\n",
        "Debería devolver:\n",
        "```\n",
        "Mejor rendimiento: Juan\n",
        "Peor rendimiento: Pablo\n",
        "Promedio rendimiento: 7\n",
        "Vendedores con mas faltas: ['Pablo']\n",
        "```\n"
      ]
    },
    {
      "cell_type": "code",
      "metadata": {
        "id": "wbpnxqdude-U"
      },
      "source": [
        ""
      ],
      "execution_count": null,
      "outputs": []
    },
    {
      "cell_type": "code",
      "metadata": {
        "colab": {
          "base_uri": "https://localhost:8080/"
        },
        "id": "--xInKVjfst8",
        "outputId": "ebb90bc5-bddf-4464-92c7-0d6b43a94175"
      },
      "source": [
        "\n",
        "def ventas():\n",
        "  vendedor=[]\n",
        "  for x in range(2):\n",
        "    nomvendedor=input(\"Ingresa el nombre del vendedor:\")\n",
        "    puntvendedor=int(input(\"Ingrese la puntuación del rendimiento del vendedor, en escala de 1 a 10 :\"))\n",
        "    vendedor.append((nomvendedor,puntvendedor))\n",
        "    \n",
        "  return vendedor\n",
        "\n",
        "\n",
        "def view(vendedor):\n",
        "  print(\"Vendedores de AVA, frente a su nivel de cumplimiento:\")\n",
        "  for x in range(len(vendedor)):\n",
        "    print(vendedor[x][0],vendedor[x][1])\n",
        "\n",
        "#Para definir el vendedor con mayor rendimiento \n",
        "def mayor(vendedor):\n",
        "  v=0\n",
        "  for x in range(1,len(vendedor)):\n",
        "    if vendedor[x][1]>vendedor[v][1]:\n",
        "      v=x\n",
        "    print(\"El Vendedor con mayor rendimiento es:\",vendedor[v][0])\n",
        "\n",
        "#Para definir el vendedor con menor rendimiento \n",
        "\n",
        "def menor(vendedor):\n",
        "  v=0\n",
        "  for x in range(1,len(vendedor)):\n",
        "    if vendedor[x][1]<vendedor[v][1]:\n",
        "      v=x\n",
        "    print(\"El Vendedor con menor rendimiento es:\",vendedor[v][0])\n",
        "\n",
        "\n",
        "vendedor=ventas()\n",
        "view(vendedor)\n",
        "mayor(vendedor)\n",
        "menor(vendedor)\n",
        "\n",
        "\n",
        "\n"
      ],
      "execution_count": null,
      "outputs": [
        {
          "output_type": "stream",
          "text": [
            "Ingresa el nombre del vendedor:ana\n",
            "Ingrese la puntuación del rendimiento del vendedor, en escala de 1 a 10 :7\n",
            "Ingresa el nombre del vendedor:sra\n",
            "Ingrese la puntuación del rendimiento del vendedor, en escala de 1 a 10 :9\n",
            "Vendedores de AVA, frente a su nivel de cumplimiento:\n",
            "ana 7\n",
            "sra 9\n",
            "El Vendedor con mayor rendimiento es: sra\n",
            "El Vendedor con menor rendimiento es: ana\n"
          ],
          "name": "stdout"
        }
      ]
    },
    {
      "cell_type": "code",
      "metadata": {
        "id": "NoYuEDB01uNK"
      },
      "source": [
        ""
      ],
      "execution_count": null,
      "outputs": []
    }
  ]
}