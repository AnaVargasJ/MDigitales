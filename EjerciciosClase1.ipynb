{
  "nbformat": 4,
  "nbformat_minor": 0,
  "metadata": {
    "colab": {
      "name": "Untitled3.ipynb",
      "provenance": [],
      "authorship_tag": "ABX9TyNRb0G4PGjS6qbOAjCwD8ka",
      "include_colab_link": true
    },
    "kernelspec": {
      "name": "python3",
      "display_name": "Python 3"
    },
    "language_info": {
      "name": "python"
    }
  },
  "cells": [
    {
      "cell_type": "markdown",
      "metadata": {
        "id": "view-in-github",
        "colab_type": "text"
      },
      "source": [
        "<a href=\"https://colab.research.google.com/github/AnaVargasJ/MDigitales/blob/main/EjerciciosClase1.ipynb\" target=\"_parent\"><img src=\"https://colab.research.google.com/assets/colab-badge.svg\" alt=\"Open In Colab\"/></a>"
      ]
    },
    {
      "cell_type": "markdown",
      "metadata": {
        "id": "1j8o2ueWiDrR"
      },
      "source": [
        "**Ejercicios propuestos**\n",
        "\n",
        "**Tipos de datos**\n",
        "\n",
        "**Enteros**"
      ]
    },
    {
      "cell_type": "code",
      "metadata": {
        "colab": {
          "base_uri": "https://localhost:8080/"
        },
        "id": "wsPmzgyKXOiz",
        "outputId": "d9c65692-9883-45e8-9efc-0a1482682c33"
      },
      "source": [
        "b=int(6.356)\n",
        "print(b)"
      ],
      "execution_count": null,
      "outputs": [
        {
          "output_type": "stream",
          "text": [
            "6\n"
          ],
          "name": "stdout"
        }
      ]
    },
    {
      "cell_type": "code",
      "metadata": {
        "colab": {
          "base_uri": "https://localhost:8080/"
        },
        "id": "MdoruIeFXjd7",
        "outputId": "2e6abb6d-4138-4858-8d10-5c55ef92d495"
      },
      "source": [
        "c=float(4.23)\n",
        "print(c)"
      ],
      "execution_count": null,
      "outputs": [
        {
          "output_type": "stream",
          "text": [
            "4.23\n"
          ],
          "name": "stdout"
        }
      ]
    },
    {
      "cell_type": "markdown",
      "metadata": {
        "id": "isk_39oFZUWt"
      },
      "source": [
        "**Cadena**"
      ]
    },
    {
      "cell_type": "code",
      "metadata": {
        "colab": {
          "base_uri": "https://localhost:8080/"
        },
        "id": "I33CQ3qKZdvI",
        "outputId": "015956ac-a92f-48a4-e48d-790ea6249a44"
      },
      "source": [
        "val=\"Hola\"\n",
        "print(val)\n",
        "\n",
        "val1=\"Ana\"\n",
        "print(val1)"
      ],
      "execution_count": null,
      "outputs": [
        {
          "output_type": "stream",
          "text": [
            "Hola\n",
            "Ana\n"
          ],
          "name": "stdout"
        }
      ]
    },
    {
      "cell_type": "code",
      "metadata": {
        "colab": {
          "base_uri": "https://localhost:8080/"
        },
        "id": "MdrJImh7ZrcQ",
        "outputId": "2907e1c9-6744-4aa2-845e-c9d9da885855"
      },
      "source": [
        "a=\"querer\"\n",
        "c=\"es poder\"\n",
        "print(a,c)\n",
        "\n"
      ],
      "execution_count": null,
      "outputs": [
        {
          "output_type": "stream",
          "text": [
            "querer es poder\n",
            "3\n"
          ],
          "name": "stdout"
        }
      ]
    },
    {
      "cell_type": "code",
      "metadata": {
        "colab": {
          "base_uri": "https://localhost:8080/"
        },
        "id": "DYDPO0mQa7SK",
        "outputId": "cc108740-c81b-4a82-a69a-df8ebb621089"
      },
      "source": [
        "q=\"10\"\n",
        "p=\"5\"\n",
        "b=int(q)\n",
        "c=int(p)\n",
        "print(\"la resta es:\",b-c, \"la suma es:\",c+b,\"la multiplicacion es:\",b*c,\"y la division es:\",b/c)\n",
        "\n"
      ],
      "execution_count": null,
      "outputs": [
        {
          "output_type": "stream",
          "text": [
            "la resta es: 5 la suma es: 15 la multiplicacion es: 50 y la division es: 2.0\n"
          ],
          "name": "stdout"
        }
      ]
    },
    {
      "cell_type": "markdown",
      "metadata": {
        "id": "GmNIEFuCbpah"
      },
      "source": [
        "**Booleanos**"
      ]
    },
    {
      "cell_type": "code",
      "metadata": {
        "colab": {
          "base_uri": "https://localhost:8080/"
        },
        "id": "sryur5tAb0sb",
        "outputId": "1e9d8d37-1236-4125-807d-899363010dd7"
      },
      "source": [
        "Ana = True\n",
        "print(\"El valor es verdadero:\",Ana,\"lo cual es tipo\", type(Ana))"
      ],
      "execution_count": null,
      "outputs": [
        {
          "output_type": "stream",
          "text": [
            "El valor es verdadero: True lo cual es tipo <class 'bool'>\n"
          ],
          "name": "stdout"
        }
      ]
    },
    {
      "cell_type": "code",
      "metadata": {
        "colab": {
          "base_uri": "https://localhost:8080/"
        },
        "id": "46JEa2CFcLCI",
        "outputId": "02d4bb4e-d282-4a39-c498-e2e34a18db58"
      },
      "source": [
        "Carmen = False\n",
        "print(\"El valor es falso\", Carmen,\"lo cual es tipo\", type(Carmen))"
      ],
      "execution_count": null,
      "outputs": [
        {
          "output_type": "stream",
          "text": [
            "El valor es falso False lo cual es tipo <class 'bool'>\n"
          ],
          "name": "stdout"
        }
      ]
    },
    {
      "cell_type": "markdown",
      "metadata": {
        "id": "lWna80JfcmfE"
      },
      "source": [
        "**Conjuntos**\n",
        "\n",
        "**listas**"
      ]
    },
    {
      "cell_type": "code",
      "metadata": {
        "colab": {
          "base_uri": "https://localhost:8080/"
        },
        "id": "LK6hnm7Rcxlv",
        "outputId": "1e5a92a9-e765-46af-9902-723e4a4625c3"
      },
      "source": [
        "Carmen=['10','mora','fresa','mango','coco','limon']\n",
        "print(Carmen)\n",
        "de=Carmen[1:3]\n",
        "print(de)"
      ],
      "execution_count": null,
      "outputs": [
        {
          "output_type": "stream",
          "text": [
            "['10', 'mora', 'fresa', 'mango', 'coco', 'limon']\n",
            "['mora', 'fresa']\n"
          ],
          "name": "stdout"
        }
      ]
    },
    {
      "cell_type": "markdown",
      "metadata": {
        "id": "Fz-PnVmKdg2T"
      },
      "source": [
        "**Tuplas**"
      ]
    },
    {
      "cell_type": "code",
      "metadata": {
        "colab": {
          "base_uri": "https://localhost:8080/"
        },
        "id": "cIRvVYD7djGv",
        "outputId": "4b9db485-3ab8-4816-e90c-8abb5297e87a"
      },
      "source": [
        "tupla1=20,26,'hola'\n",
        "print(tupla)\n",
        "tupla2=tupla1,(1,2,3,4)\n",
        "print(otra)"
      ],
      "execution_count": null,
      "outputs": [
        {
          "output_type": "stream",
          "text": [
            "(23, 28, 'hola')\n",
            "((23, 28, 'hola'), (1, 2, 3, 4))\n"
          ],
          "name": "stdout"
        }
      ]
    },
    {
      "cell_type": "markdown",
      "metadata": {
        "id": "cHiL4UrsfNfK"
      },
      "source": [
        "**Diccionarios**"
      ]
    },
    {
      "cell_type": "code",
      "metadata": {
        "colab": {
          "base_uri": "https://localhost:8080/",
          "height": 268
        },
        "id": "BDbQrcRKfP9S",
        "outputId": "8937c9bf-2f82-4888-b398-d77de61c7624"
      },
      "source": [
        "datos_b={\n",
        "    \"nombres\":\"Ana\",\n",
        "    \"apellido\":\"Vargas\",\n",
        "    \"Cedula\": \"2345671\",\n",
        "    \"estado_civil\": \"Soltera\",\n",
        "    \"lugar_nacimiento\":\"Ibague\",\n",
        "    \"Fecha_nacimiento\":\"23/12/2001\",\n",
        "}\n",
        "print(\"ID del diccionario\", datos_b.keys())\n",
        "print(\"ID del diccionario\", datos_b.values())\n",
        "print(\"ID del diccionario\", datos_b.items())\n",
        "print(\"cedula de ciudadania:\", datos_b['fecha_de nacimiento'])"
      ],
      "execution_count": null,
      "outputs": [
        {
          "output_type": "stream",
          "text": [
            "ID del diccionario dict_keys(['nombres', 'apellido', 'Cedula', 'estado_civil', 'lugar_nacimiento', 'Fecha_nacimiento'])\n",
            "ID del diccionario dict_values(['Ana', 'Vargas', '2345671', 'Soltera', 'Ibague', '23/12/2001'])\n",
            "ID del diccionario dict_items([('nombres', 'Ana'), ('apellido', 'Vargas'), ('Cedula', '2345671'), ('estado_civil', 'Soltera'), ('lugar_nacimiento', 'Ibague'), ('Fecha_nacimiento', '23/12/2001')])\n"
          ],
          "name": "stdout"
        },
        {
          "output_type": "error",
          "ename": "KeyError",
          "evalue": "ignored",
          "traceback": [
            "\u001b[0;31m---------------------------------------------------------------------------\u001b[0m",
            "\u001b[0;31mKeyError\u001b[0m                                  Traceback (most recent call last)",
            "\u001b[0;32m<ipython-input-40-b9337e7d9029>\u001b[0m in \u001b[0;36m<module>\u001b[0;34m()\u001b[0m\n\u001b[1;32m     10\u001b[0m \u001b[0mprint\u001b[0m\u001b[0;34m(\u001b[0m\u001b[0;34m\"ID del diccionario\"\u001b[0m\u001b[0;34m,\u001b[0m \u001b[0mdatos_b\u001b[0m\u001b[0;34m.\u001b[0m\u001b[0mvalues\u001b[0m\u001b[0;34m(\u001b[0m\u001b[0;34m)\u001b[0m\u001b[0;34m)\u001b[0m\u001b[0;34m\u001b[0m\u001b[0;34m\u001b[0m\u001b[0m\n\u001b[1;32m     11\u001b[0m \u001b[0mprint\u001b[0m\u001b[0;34m(\u001b[0m\u001b[0;34m\"ID del diccionario\"\u001b[0m\u001b[0;34m,\u001b[0m \u001b[0mdatos_b\u001b[0m\u001b[0;34m.\u001b[0m\u001b[0mitems\u001b[0m\u001b[0;34m(\u001b[0m\u001b[0;34m)\u001b[0m\u001b[0;34m)\u001b[0m\u001b[0;34m\u001b[0m\u001b[0;34m\u001b[0m\u001b[0m\n\u001b[0;32m---> 12\u001b[0;31m \u001b[0mprint\u001b[0m\u001b[0;34m(\u001b[0m\u001b[0;34m\"cedula de ciudadania:\"\u001b[0m\u001b[0;34m,\u001b[0m \u001b[0mdatos_b\u001b[0m\u001b[0;34m[\u001b[0m\u001b[0;34m'fecha_de nacimiento'\u001b[0m\u001b[0;34m]\u001b[0m\u001b[0;34m)\u001b[0m\u001b[0;34m\u001b[0m\u001b[0;34m\u001b[0m\u001b[0m\n\u001b[0m",
            "\u001b[0;31mKeyError\u001b[0m: 'fecha_de nacimiento'"
          ]
        }
      ]
    },
    {
      "cell_type": "code",
      "metadata": {
        "colab": {
          "base_uri": "https://localhost:8080/"
        },
        "id": "YlR7RYvpg9XC",
        "outputId": "002cfe64-134e-4221-f952-bf3835cf3769"
      },
      "source": [
        "motos_0={}\n",
        "motos_0['tamaño']='mediana'\n",
        "motos_0['color']='azul'\n",
        "motos_0['marca']='AKT'\n",
        "motos_0['precio']=50\n",
        "\n",
        "motos_1={}\n",
        "motos_1['tamaño']='grande'\n",
        "motos_1['color']='roja'\n",
        "motos_1['marca']='Suzuki'\n",
        "motos_1['precio']=63\n",
        "print(motos_0)\n",
        "print(motos_1)\n",
        "\n",
        "compra0= motos_0['precio'] \n",
        "compra1=motos_1['precio']\n",
        "compratotal=compra0 + compra1\n",
        "\n",
        "print(\"la compra total fue de:\", compratotal)"
      ],
      "execution_count": null,
      "outputs": [
        {
          "output_type": "stream",
          "text": [
            "{'tamaño': 'mediana', 'color': 'azul', 'marca': 'AKT', 'precio': 50}\n",
            "{'tamaño': 'grande', 'color': 'roja', 'marca': 'Suzuki', 'precio': 63}\n",
            "la compra total fue de: 113\n"
          ],
          "name": "stdout"
        }
      ]
    }
  ]
}