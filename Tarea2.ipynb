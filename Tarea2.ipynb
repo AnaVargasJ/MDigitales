{
  "nbformat": 4,
  "nbformat_minor": 0,
  "metadata": {
    "colab": {
      "name": "Tarea2.ipynb",
      "provenance": [],
      "authorship_tag": "ABX9TyMZC7NjAForBxhcuEpIjQP4",
      "include_colab_link": true
    },
    "kernelspec": {
      "name": "python3",
      "display_name": "Python 3"
    },
    "language_info": {
      "name": "python"
    }
  },
  "cells": [
    {
      "cell_type": "markdown",
      "metadata": {
        "id": "view-in-github",
        "colab_type": "text"
      },
      "source": [
        "<a href=\"https://colab.research.google.com/github/AnaVargasJ/MDigitales/blob/main/Tarea2.ipynb\" target=\"_parent\"><img src=\"https://colab.research.google.com/assets/colab-badge.svg\" alt=\"Open In Colab\"/></a>"
      ]
    },
    {
      "cell_type": "markdown",
      "metadata": {
        "id": "O8CrejbuuBCX"
      },
      "source": [
        "**1.Ejercicio**\n",
        "\n",
        "un profesor desea conocer el promedio de las notas de 1 estudiante.\n",
        "\n",
        "1. 3.5\n",
        "2. 4.5\n",
        "3. 2.0\n",
        "\n",
        "\n",
        "\n",
        "\n",
        "\n",
        "\n"
      ]
    },
    {
      "cell_type": "code",
      "metadata": {
        "colab": {
          "base_uri": "https://localhost:8080/"
        },
        "id": "Tf9lCDJuuacG",
        "outputId": "fb3a87e4-94f0-4df8-a440-bcccd31857b7"
      },
      "source": [
        "\n",
        "suma = 3.5 + 4.5 + 2.0\n",
        "promedio = suma / 3\n",
        "print(\"el promedio del estudiante Juan es: \", promedio) "
      ],
      "execution_count": 10,
      "outputs": [
        {
          "output_type": "stream",
          "text": [
            "el promedio del estudiante Juan es:  3.3333333333333335\n"
          ],
          "name": "stdout"
        }
      ]
    },
    {
      "cell_type": "markdown",
      "metadata": {
        "id": "3TS5zjeqx4EX"
      },
      "source": [
        "**2. Ejercicio **\n",
        "\n",
        "Se desea conocer si el estudiante aprobo las materias segun sus notas para esto el promedio tendra que ser   4.0\n",
        "\n",
        "1. 2.0\n",
        "2. 4.6\n",
        "3. 4.8\n"
      ]
    },
    {
      "cell_type": "code",
      "metadata": {
        "colab": {
          "base_uri": "https://localhost:8080/"
        },
        "id": "6_1-WMmmyeS-",
        "outputId": "b0d4c83a-fd29-4a8d-871e-3e0e3837fccc"
      },
      "source": [
        "\n",
        "\n",
        "x = 2.0\n",
        "b= 4.6\n",
        "c= 4.8\n",
        "suma= 2.0 + 4.6 + 4.8\n",
        "promedio = suma / 3\n",
        "print(\"el proemdio es\",promedio)\n",
        "print(\"el promedio es igual a 4?\",promedio == 4.0 )\n",
        "print(\"el estudiante no aprobo la materia\")\n",
        "\n"
      ],
      "execution_count": 4,
      "outputs": [
        {
          "output_type": "stream",
          "text": [
            "el proemdio es 3.7999999999999994\n",
            "el promedio es igual a 4? False\n",
            "el estudiante no aprobo la materia\n"
          ],
          "name": "stdout"
        }
      ]
    },
    {
      "cell_type": "markdown",
      "metadata": {
        "id": "_c0yXEYo1Tn_"
      },
      "source": [
        "**3.ejercicio **\n",
        "\n",
        "una profesora desea que  5 niños  de preescolar puedan relacionar correctamente un numero del uno al 5 con su significado en ingles.\n",
        "\n",
        "**ejemplo**\n",
        "1. 10 == ten\n",
        "\n",
        "De acuerdo a lo anterior los niños deberan estar en capacidad de hacer la comparacion. si ellos eligen correctamente el resultado sera True, de lo contrario sera False.\n",
        "\n",
        "al final de la prueba los resultados fueron:"
      ]
    },
    {
      "cell_type": "code",
      "metadata": {
        "colab": {
          "base_uri": "https://localhost:8080/"
        },
        "id": "MjhqAQST1ZHI",
        "outputId": "813f9229-aa64-4d1d-f8e5-b4ad143ca6f9"
      },
      "source": [
        "one = 1\n",
        "two = 2\n",
        "three = 3\n",
        "four = 4\n",
        "five= 5\n",
        "\n",
        "a = one == 1\n",
        "print(\"juan  comparo lo siguiente (one == 1)  por lo que el resultado es\", a)\n",
        "b = two == 3\n",
        "print(\"julian  comparo lo siguiente (two == 3)  por lo que el resultado es:\", b)\n",
        "c = 3 == four\n",
        "print(\"diana  comparo lo siguiente (3 == four)  por lo que el resultado es:\", c)\n",
        "d = 4 != five\n",
        "print(\"lina  comparo lo siguiente (4!= five)  por lo que el resultado es:\", d)\n",
        "e = 5 == two\n",
        "print(\"stefanny  comparo lo siguiente (5 == two)  por lo que el resultado es:\", e)"
      ],
      "execution_count": 62,
      "outputs": [
        {
          "output_type": "stream",
          "text": [
            "juan  comparo lo siguiente (one == 1)  por lo que el resultado es True\n",
            "julian  comparo lo siguiente (two == 3)  por lo que el resultado es: False\n",
            "diana  comparo lo siguiente (3 == four)  por lo que el resultado es: False\n",
            "lina  comparo lo siguiente (4!= five)  por lo que el resultado es: True\n",
            "stefanny  comparo lo siguiente (5 == two)  por lo que el resultado es: False\n"
          ],
          "name": "stdout"
        }
      ]
    },
    {
      "cell_type": "markdown",
      "metadata": {
        "id": "lWYV1nOF3622"
      },
      "source": [
        "**4.ejercicio**\n",
        "\n",
        "julian hara la compracion respectiva para determinar si el resultado es True o  False para ello hace uso de **AND Y OR **\n"
      ]
    },
    {
      "cell_type": "code",
      "metadata": {
        "colab": {
          "base_uri": "https://localhost:8080/"
        },
        "id": "FVGdH7v52Sa8",
        "outputId": "1ecf6a65-85ab-4c75-b2fd-a39c46e4b933"
      },
      "source": [
        "rojo  = 1\n",
        "verde = 2\n",
        "azul  = 3\n",
        "amarillo = 4\n",
        "morado = 5\n",
        "\n",
        "print(rojo== 1 and amarillo == 4 )\n",
        "print(amarillo== 2 or rojo == 3 )\n",
        "print(morado== 5 or azul == 2 )\n",
        "print( morado==3 or verde == 2 )\n",
        "\n"
      ],
      "execution_count": 74,
      "outputs": [
        {
          "output_type": "stream",
          "text": [
            "True\n",
            "False\n",
            "True\n",
            "True\n"
          ],
          "name": "stdout"
        }
      ]
    },
    {
      "cell_type": "markdown",
      "metadata": {
        "id": "xuREpghmkGjW"
      },
      "source": [
        "**5. Ejercicio**\n",
        "\n",
        "1. se resuelve el parentesis **(-2)-(-4+5)+3** = **-2+4-5+3** invirtiendo el signo (+) por (-)\n",
        "\n",
        "2. se resuelve la resta -2-5=-7 \n",
        "3. se resuelven las sumas 4+3 = 7\n",
        "4. **Resultado -7+7 = 0**"
      ]
    },
    {
      "cell_type": "code",
      "metadata": {
        "colab": {
          "base_uri": "https://localhost:8080/"
        },
        "id": "_7kaCthIkFlR",
        "outputId": "22a05f77-4ea7-40b9-ca60-feb6a95e881e"
      },
      "source": [
        "\n",
        "operacion = (- 2)-(-4 +5)+3\n",
        "print(\"El resultado de la operacion es:\",operacion)"
      ],
      "execution_count": 26,
      "outputs": [
        {
          "output_type": "stream",
          "text": [
            "El resultado de la operacion es: 0\n"
          ],
          "name": "stdout"
        }
      ]
    }
  ]
}