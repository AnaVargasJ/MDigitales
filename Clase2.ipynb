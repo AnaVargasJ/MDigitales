{
  "nbformat": 4,
  "nbformat_minor": 0,
  "metadata": {
    "colab": {
      "name": "Clase2.ipynb",
      "provenance": [],
      "authorship_tag": "ABX9TyMOPh+wEDyugx3yWuoyTK9c",
      "include_colab_link": true
    },
    "kernelspec": {
      "name": "python3",
      "display_name": "Python 3"
    },
    "language_info": {
      "name": "python"
    }
  },
  "cells": [
    {
      "cell_type": "markdown",
      "metadata": {
        "id": "view-in-github",
        "colab_type": "text"
      },
      "source": [
        "<a href=\"https://colab.research.google.com/github/AnaVargasJ/MDigitales/blob/main/Clase2.ipynb\" target=\"_parent\"><img src=\"https://colab.research.google.com/assets/colab-badge.svg\" alt=\"Open In Colab\"/></a>"
      ]
    },
    {
      "cell_type": "code",
      "metadata": {
        "id": "etnxsGgpvC5j"
      },
      "source": [
        ""
      ],
      "execution_count": null,
      "outputs": []
    },
    {
      "cell_type": "markdown",
      "metadata": {
        "id": "8jctIXU8vGnG"
      },
      "source": [
        "**Operadores aritmeticos**\n",
        "\n",
        "---\n",
        "\n",
        "Los operadores permiten realizar diferentes procesos de calculo en cualquier lengaje de programacion.\n",
        "\n",
        "Los operadores mas basicos\n",
        "  1.suma\n",
        "  2.resta\n",
        "  3.multiplicacion\n",
        "  4.division"
      ]
    },
    {
      "cell_type": "markdown",
      "metadata": {
        "id": "doSJBResv2AW"
      },
      "source": [
        "**Suma y Resta**\n",
        "\n",
        "---\n",
        "Simbolo suma(+) el cual se utilizara en medio de la declaracion de las variables a operar\n",
        "\n",
        "Simbolo resta(-)"
      ]
    },
    {
      "cell_type": "code",
      "metadata": {
        "colab": {
          "base_uri": "https://localhost:8080/"
        },
        "id": "m4T6-y6DwH3-",
        "outputId": "44fb5a7d-a339-4304-df89-1e9a0f8db62a"
      },
      "source": [
        "print(10-300)\n",
        "a=20\n",
        "b=35\n",
        "print(a+b)"
      ],
      "execution_count": 2,
      "outputs": [
        {
          "output_type": "stream",
          "text": [
            "-290\n",
            "55\n"
          ],
          "name": "stdout"
        }
      ]
    },
    {
      "cell_type": "code",
      "metadata": {
        "colab": {
          "base_uri": "https://localhost:8080/"
        },
        "id": "UCaG0ZqRwxmz",
        "outputId": "36b13c0c-76e2-45da-ee62-16adf4249165"
      },
      "source": [
        "numero_botellas=12\n",
        "print(numero_botellas + 8)"
      ],
      "execution_count": 3,
      "outputs": [
        {
          "output_type": "stream",
          "text": [
            "20\n"
          ],
          "name": "stdout"
        }
      ]
    },
    {
      "cell_type": "code",
      "metadata": {
        "colab": {
          "base_uri": "https://localhost:8080/"
        },
        "id": "v-HhVLXkw4bm",
        "outputId": "5fde34b7-6163-44ed-a651-e69548c85f38"
      },
      "source": [
        "numero_botellas=12\n",
        "numero_botellas=numero_botellas + 8 \n",
        "print(numero_botellas)"
      ],
      "execution_count": 5,
      "outputs": [
        {
          "output_type": "stream",
          "text": [
            "20\n"
          ],
          "name": "stdout"
        }
      ]
    },
    {
      "cell_type": "markdown",
      "metadata": {
        "id": "3gEXYNhhxUyM"
      },
      "source": [
        "**Sumas entre los diferentes tipos de variables**\n",
        "\n",
        "---\n",
        "Recordmeos los tipos de variables que vimos ayer:\n",
        "1. Declaracion de variables numericas enteros\n",
        "2. Flotantes (incorpora y flexibiliza los decimales)\n",
        "3.Tipo cadena"
      ]
    },
    {
      "cell_type": "code",
      "metadata": {
        "colab": {
          "base_uri": "https://localhost:8080/"
        },
        "id": "5OYJd7djxqmw",
        "outputId": "4e4aed8d-c7eb-4e49-bf0c-007abbd9a720"
      },
      "source": [
        "q1=100\n",
        "q2=24.5\n",
        "print(type(q1+q2))"
      ],
      "execution_count": 7,
      "outputs": [
        {
          "output_type": "stream",
          "text": [
            "<class 'float'>\n"
          ],
          "name": "stdout"
        }
      ]
    },
    {
      "cell_type": "code",
      "metadata": {
        "colab": {
          "base_uri": "https://localhost:8080/"
        },
        "id": "4r930n_xyD7-",
        "outputId": "b043a959-75fb-4d84-faac-e6e437bb327c"
      },
      "source": [
        "v1=\"quiero\"\n",
        "v2=\"un celular\"\n",
        "v3= v1+\"\"+v2\n",
        "print(v3)"
      ],
      "execution_count": 9,
      "outputs": [
        {
          "output_type": "stream",
          "text": [
            "quieroun celular\n"
          ],
          "name": "stdout"
        }
      ]
    },
    {
      "cell_type": "code",
      "metadata": {
        "colab": {
          "base_uri": "https://localhost:8080/"
        },
        "id": "a6z0uQL4yoZt",
        "outputId": "e91739bb-8cb0-405f-b04d-fffc6fb20005"
      },
      "source": [
        "xq2=235\n",
        "xq3=400\n",
        "print(xq2-xq3)\n",
        "\n",
        "xq2=24.66\n",
        "xq3=4\n",
        "print(type(xq2-xq3))"
      ],
      "execution_count": 14,
      "outputs": [
        {
          "output_type": "stream",
          "text": [
            "-165\n",
            "<class 'float'>\n"
          ],
          "name": "stdout"
        }
      ]
    },
    {
      "cell_type": "markdown",
      "metadata": {
        "id": "ZKupfHNRzamE"
      },
      "source": [
        "**IMPORTANTE**\n",
        "la resta no funciona directamente para variables  tipo cadena."
      ]
    },
    {
      "cell_type": "code",
      "metadata": {
        "colab": {
          "base_uri": "https://localhost:8080/",
          "height": 197
        },
        "id": "L_VQ1iipzmuP",
        "outputId": "46c6344b-6107-4206-f08d-248aa336ef1a"
      },
      "source": [
        "v1=\"quiero\"\n",
        "v2=\"un celular\"\n",
        "v3=\"565\"\n",
        "\n",
        "print(v1-v2-v3)"
      ],
      "execution_count": 19,
      "outputs": [
        {
          "output_type": "error",
          "ename": "TypeError",
          "evalue": "ignored",
          "traceback": [
            "\u001b[0;31m---------------------------------------------------------------------------\u001b[0m",
            "\u001b[0;31mTypeError\u001b[0m                                 Traceback (most recent call last)",
            "\u001b[0;32m<ipython-input-19-52f4de104aed>\u001b[0m in \u001b[0;36m<module>\u001b[0;34m()\u001b[0m\n\u001b[1;32m      3\u001b[0m \u001b[0mv3\u001b[0m\u001b[0;34m=\u001b[0m\u001b[0;34m\"565\"\u001b[0m\u001b[0;34m\u001b[0m\u001b[0;34m\u001b[0m\u001b[0m\n\u001b[1;32m      4\u001b[0m \u001b[0;34m\u001b[0m\u001b[0m\n\u001b[0;32m----> 5\u001b[0;31m \u001b[0mprint\u001b[0m\u001b[0;34m(\u001b[0m\u001b[0mv1\u001b[0m\u001b[0;34m-\u001b[0m\u001b[0mv2\u001b[0m\u001b[0;34m-\u001b[0m\u001b[0mv3\u001b[0m\u001b[0;34m)\u001b[0m\u001b[0;34m\u001b[0m\u001b[0;34m\u001b[0m\u001b[0m\n\u001b[0m",
            "\u001b[0;31mTypeError\u001b[0m: unsupported operand type(s) for -: 'str' and 'str'"
          ]
        }
      ]
    },
    {
      "cell_type": "markdown",
      "metadata": {
        "id": "yEN1KPzV0v7H"
      },
      "source": [
        "**Multiplicacion**\n",
        "\n",
        "---\n",
        "Definamos la multiplicacion como la suma de varias veces un numero, cantidad de veces indicadas por el otro numero. Ejemplo: 4x2=4+4=8\n",
        "El simbolo que se manejaria es el (*)"
      ]
    },
    {
      "cell_type": "code",
      "metadata": {
        "colab": {
          "base_uri": "https://localhost:8080/"
        },
        "id": "q962ZL401IBc",
        "outputId": "7c2ae746-807a-4582-a85f-fbcd9bfef4ac"
      },
      "source": [
        "cali=5\n",
        "palmira=6\n",
        "print(cali*palmira)"
      ],
      "execution_count": 20,
      "outputs": [
        {
          "output_type": "stream",
          "text": [
            "30\n"
          ],
          "name": "stdout"
        }
      ]
    },
    {
      "cell_type": "markdown",
      "metadata": {
        "id": "lbW5k1V01PaF"
      },
      "source": [
        "**IMPORTANTE**\n",
        "\n",
        "se aplica la ley conmutativa es que el orden de los factorres no altera el resultado (Aplica para suma y multiplicacion)"
      ]
    },
    {
      "cell_type": "code",
      "metadata": {
        "colab": {
          "base_uri": "https://localhost:8080/"
        },
        "id": "ctofAJwx1j1q",
        "outputId": "6d4d6e6c-7000-40cd-d92f-37466bb87f38"
      },
      "source": [
        "cali=5\n",
        "palmira=6\n",
        "print(palmira*cali)"
      ],
      "execution_count": 21,
      "outputs": [
        {
          "output_type": "stream",
          "text": [
            "30\n"
          ],
          "name": "stdout"
        }
      ]
    },
    {
      "cell_type": "markdown",
      "metadata": {
        "id": "vwx1iOF21rG-"
      },
      "source": [
        "**Division**\n",
        "\n",
        "---\n",
        "Aclaracion: **NO** aplica la ley conmutativa. El simbolo de division (/).\n",
        "\n"
      ]
    },
    {
      "cell_type": "code",
      "metadata": {
        "colab": {
          "base_uri": "https://localhost:8080/"
        },
        "id": "LUmuhS0U12XO",
        "outputId": "4ac21dff-ba75-4d8a-e0be-a2f06a2996f0"
      },
      "source": [
        "a=20\n",
        "b=4\n",
        "print(a/b)\n"
      ],
      "execution_count": 23,
      "outputs": [
        {
          "output_type": "stream",
          "text": [
            "5.0 80\n"
          ],
          "name": "stdout"
        }
      ]
    },
    {
      "cell_type": "markdown",
      "metadata": {
        "id": "eXSTNyLK2W12"
      },
      "source": [
        "Para el **print** podemos separar las operacioness por variable lo cual no afectara la impreion en los resultados por operacion asignada.\n"
      ]
    },
    {
      "cell_type": "markdown",
      "metadata": {
        "id": "fGjuOIdB3BUn"
      },
      "source": [
        "**Tipos de Division**\n",
        "\n",
        "---\n",
        "1. Division exacta (/)\n",
        "2. Division inexacta (//)"
      ]
    },
    {
      "cell_type": "code",
      "metadata": {
        "colab": {
          "base_uri": "https://localhost:8080/"
        },
        "id": "aq7OQdlD3SIo",
        "outputId": "0a916ac5-f617-4964-b158-355fe7534615"
      },
      "source": [
        "print(15//4)\n",
        "print(15/4)\n"
      ],
      "execution_count": 27,
      "outputs": [
        {
          "output_type": "stream",
          "text": [
            "3\n"
          ],
          "name": "stdout"
        }
      ]
    },
    {
      "cell_type": "markdown",
      "metadata": {
        "id": "LDNWvLDr39T7"
      },
      "source": [
        "Nota:la operacion de division al igual que una operacion noprmal **No** es posible dividir entre cero.¿por que? porque en matematicas es un resultado indefinido."
      ]
    },
    {
      "cell_type": "markdown",
      "metadata": {
        "id": "sNy_u2PW4Scg"
      },
      "source": [
        "4. potenciacion\n",
        "5. modulo"
      ]
    },
    {
      "cell_type": "markdown",
      "metadata": {
        "id": "gRh1uwPI4atz"
      },
      "source": [
        "**potenciacion**\n",
        "\n",
        "---\n",
        "\n",
        "en pytho se maneja el simbolo(**),\n",
        "El primer valor es la base y el ultimo valor del exponente"
      ]
    },
    {
      "cell_type": "code",
      "metadata": {
        "colab": {
          "base_uri": "https://localhost:8080/"
        },
        "id": "_k799SVR4rY6",
        "outputId": "152c2f2b-2eae-4a40-989c-65cda4097b2e"
      },
      "source": [
        "print(2**3)\n"
      ],
      "execution_count": 28,
      "outputs": [
        {
          "output_type": "stream",
          "text": [
            "8\n"
          ],
          "name": "stdout"
        }
      ]
    },
    {
      "cell_type": "markdown",
      "metadata": {
        "id": "WB2W7ZfA474F"
      },
      "source": [
        "**Modulo**\n",
        "\n",
        "---\n",
        "le llamamos modulo al residuo de la operacion de division.\n",
        "El simbolo usado para mostrar el residuo es (%)\n",
        "El primer valor es el dividendo y el divisor"
      ]
    },
    {
      "cell_type": "code",
      "metadata": {
        "colab": {
          "base_uri": "https://localhost:8080/"
        },
        "id": "1cp6LrHl5Q86",
        "outputId": "9405058c-8043-41e3-acda-beb753f51458"
      },
      "source": [
        "print(88%9)"
      ],
      "execution_count": 31,
      "outputs": [
        {
          "output_type": "stream",
          "text": [
            "7\n"
          ],
          "name": "stdout"
        }
      ]
    },
    {
      "cell_type": "markdown",
      "metadata": {
        "id": "79ICsrTt8CUT"
      },
      "source": [
        "**OPERADORES DE COMPARACIONlos operadores de comparacion, sirven para comparar varios valores.\n",
        "En la vida cotidiana a la  hora de tomar decisiones tenemtenemos que decidir entre un camino u otro, ejemplo:compras, decisiones de vida, caminos por recorrer.\n",
        "\n"
      ]
    },
    {
      "cell_type": "markdown",
      "metadata": {
        "id": "gYnXLQzs87Kf"
      },
      "source": [
        "**Igualdad**\n",
        "\n",
        "---\n",
        "Simbolo en Python es(==)\n"
      ]
    },
    {
      "cell_type": "code",
      "metadata": {
        "colab": {
          "base_uri": "https://localhost:8080/"
        },
        "id": "gNz-F5_K9A5y",
        "outputId": "d33f1fb2-a88b-40c2-a3d7-9f74186340da"
      },
      "source": [
        "x=30\n",
        "z=31\n",
        "print(x==z)"
      ],
      "execution_count": 32,
      "outputs": [
        {
          "output_type": "stream",
          "text": [
            "False\n"
          ],
          "name": "stdout"
        }
      ]
    },
    {
      "cell_type": "code",
      "metadata": {
        "colab": {
          "base_uri": "https://localhost:8080/"
        },
        "id": "jKai96OU9LR6",
        "outputId": "04a92f9b-0ad0-4180-b16f-6fbe72f25d91"
      },
      "source": [
        "x=\"casa\"\n",
        "z=\"casa\"\n",
        "print(x==z)"
      ],
      "execution_count": 33,
      "outputs": [
        {
          "output_type": "stream",
          "text": [
            "True\n"
          ],
          "name": "stdout"
        }
      ]
    },
    {
      "cell_type": "markdown",
      "metadata": {
        "id": "TScDuS2M_Q9w"
      },
      "source": [
        "**Diferencia**\n",
        "\n",
        "---\n",
        "A diferencia del operador de igualdad,  el simbolo esta combinado por el simbolo de admiracion, es decir  (!=)"
      ]
    },
    {
      "cell_type": "code",
      "metadata": {
        "colab": {
          "base_uri": "https://localhost:8080/"
        },
        "id": "rn7KPf52_iO0",
        "outputId": "3872a5fe-691b-40fd-bb4f-c900b361a64b"
      },
      "source": [
        "x=\"casa\"\n",
        "z=\"casa\"\n",
        "print(x!=z)"
      ],
      "execution_count": 34,
      "outputs": [
        {
          "output_type": "stream",
          "text": [
            "True\n"
          ],
          "name": "stdout"
        }
      ]
    },
    {
      "cell_type": "markdown",
      "metadata": {
        "id": "Fbbzfol7_sGV"
      },
      "source": [
        "**Diferencia mayor que**\n",
        "\n",
        "\n",
        "---\n",
        "\n",
        "\n",
        "simbolo en python (>)\n",
        "Siempre comparativa se designa cual es el menor o el mayor por el valor que esta a la izquierda en la operacion."
      ]
    },
    {
      "cell_type": "code",
      "metadata": {
        "colab": {
          "base_uri": "https://localhost:8080/"
        },
        "id": "hYmNKl_Q_5gX",
        "outputId": "b4dcc689-a275-4605-e724-2902d55ef5ae"
      },
      "source": [
        "print(30>29.8)\n",
        "print(20>10)"
      ],
      "execution_count": 35,
      "outputs": [
        {
          "output_type": "stream",
          "text": [
            "True\n"
          ],
          "name": "stdout"
        }
      ]
    },
    {
      "cell_type": "markdown",
      "metadata": {
        "id": "jwfjWHaTAeLL"
      },
      "source": [
        "**Menor que**\n",
        "\n",
        "---\n",
        "Caso contario,el simbolo es menor (<)\n",
        "\n"
      ]
    },
    {
      "cell_type": "code",
      "metadata": {
        "colab": {
          "base_uri": "https://localhost:8080/"
        },
        "id": "kkHuSXk3An3p",
        "outputId": "19f3d6e4-0b78-4cd1-e5b4-784893a6e9fb"
      },
      "source": [
        "x=4\n",
        "y=3\n",
        "print(x<y)"
      ],
      "execution_count": 36,
      "outputs": [
        {
          "output_type": "stream",
          "text": [
            "False\n"
          ],
          "name": "stdout"
        }
      ]
    },
    {
      "cell_type": "markdown",
      "metadata": {
        "id": "ONuPPUOKAwAc"
      },
      "source": [
        "**Mayor o igual que**\n",
        "\n",
        "---\n",
        "Es similar al mayor que, con la diferencia de que la forma en que dara el resultado verdadero es si ambos numeros son iguales y flexibiliza dado verdadero de igual forma si el valor de la i zquierda es mayor que el de la derecha. El simbol es (>=)\n",
        "\n"
      ]
    },
    {
      "cell_type": "code",
      "metadata": {
        "colab": {
          "base_uri": "https://localhost:8080/"
        },
        "id": "4vp-5z4BBOMX",
        "outputId": "52a014c3-e4c6-4716-b700-8a3833ad98df"
      },
      "source": [
        "x=10\n",
        "y=5\n",
        "print(x>=y)"
      ],
      "execution_count": 41,
      "outputs": [
        {
          "output_type": "stream",
          "text": [
            "True\n"
          ],
          "name": "stdout"
        }
      ]
    },
    {
      "cell_type": "markdown",
      "metadata": {
        "id": "6cGv2AeuBmox"
      },
      "source": [
        "**Menor o igual que **\n",
        "\n",
        "\n",
        "---\n",
        "El simbolo es (<=)\n",
        "\n"
      ]
    },
    {
      "cell_type": "code",
      "metadata": {
        "colab": {
          "base_uri": "https://localhost:8080/"
        },
        "id": "VJy-GeTVBut9",
        "outputId": "e7a364ab-3ad8-4b5b-e6a1-52d99471605d"
      },
      "source": [
        "c=45\n",
        "print(c<46)"
      ],
      "execution_count": 42,
      "outputs": [
        {
          "output_type": "stream",
          "text": [
            "True\n"
          ],
          "name": "stdout"
        }
      ]
    },
    {
      "cell_type": "markdown",
      "metadata": {
        "id": "CMYXNoJxB401"
      },
      "source": [
        "**Tener en cuenta** en compraciones los resultados que nos arroja siempre es de tipo booleano es decir:True or False"
      ]
    },
    {
      "cell_type": "markdown",
      "metadata": {
        "id": "7nQndAReCdBi"
      },
      "source": [
        "**Operadores logicos**\n",
        "\n",
        "\n",
        "---\n",
        "python incluye tres operadores logicos basicos base:\n",
        "\n",
        "1. AND(y)\n",
        "2. OR(O)\n",
        "3. NOT(no )\n",
        "\n",
        "Los operadores logicos funcionan solo con valores o variables booleanas, asu vez devuelven valores booleanos\n",
        "\n"
      ]
    },
    {
      "cell_type": "markdown",
      "metadata": {
        "id": "LoBQceikC776"
      },
      "source": [
        "**Operador AND**\n",
        "\n",
        "\n",
        "---\n",
        "Este operador solo devolvera verdadero si ambos valores lo son.\n",
        "¿Como usar el operador AND?\n",
        "Para usar este operador basta con escribir un valñor booleano, luego, la palabra \"and\" y por ultimo otro valor booleano \n",
        "\n",
        "**Ejemplo**\n",
        "\n"
      ]
    },
    {
      "cell_type": "code",
      "metadata": {
        "colab": {
          "base_uri": "https://localhost:8080/"
        },
        "id": "UlTLrIfhDbaI",
        "outputId": "126358b6-3cd6-46b9-a5c7-ec2fa5000995"
      },
      "source": [
        "print(True and False)"
      ],
      "execution_count": 43,
      "outputs": [
        {
          "output_type": "stream",
          "text": [
            "False\n"
          ],
          "name": "stdout"
        }
      ]
    },
    {
      "cell_type": "markdown",
      "metadata": {
        "id": "5Doy-EKnDpYe"
      },
      "source": [
        "**Ejemplo 2 de contextualizacion**\n",
        "\n",
        "1. True and True = True\n",
        "2. True and True = False\n",
        "3. True and True = False\n",
        "4. True and True = False"
      ]
    },
    {
      "cell_type": "markdown",
      "metadata": {
        "id": "PF7sMrVJEJVx"
      },
      "source": [
        "**Operador OR**\n",
        "\n",
        "\n",
        "---\n",
        "devuelve verdadero o falso si todos los valores son del mismo tipo booleano\n",
        "\n",
        "1. True OR True = True\n",
        "2. True OR false = true\n",
        "3. false OR true = true\n",
        "\n",
        "\n"
      ]
    },
    {
      "cell_type": "markdown",
      "metadata": {
        "id": "iS__SDoKEx7i"
      },
      "source": [
        "**Ejemplo de contextualizacion de OR:**\n"
      ]
    },
    {
      "cell_type": "code",
      "metadata": {
        "colab": {
          "base_uri": "https://localhost:8080/"
        },
        "id": "m2sL6yUzFN2B",
        "outputId": "702cb58c-5629-4860-9d9b-eb5172c3856f"
      },
      "source": [
        "a = 3\n",
        "b= 2\n",
        "print(a>4 or a == 4)\n",
        "print(b==b and a>=b)"
      ],
      "execution_count": 44,
      "outputs": [
        {
          "output_type": "stream",
          "text": [
            "False\n",
            "True\n"
          ],
          "name": "stdout"
        }
      ]
    },
    {
      "cell_type": "markdown",
      "metadata": {
        "id": "nOgVE2EaFgXX"
      },
      "source": [
        "**Operador NOT **\n",
        "\n",
        "\n",
        "---\n",
        "Este operador es de negacion, en español \"No\". Este operador es muy especial, dado que por si solo no sirve para hacer ninguna operacion, lo unico que h ace es negar, o en palabras mas simples, invertir el valor booleano que viene despues de el\n",
        "\n"
      ]
    },
    {
      "cell_type": "code",
      "metadata": {
        "colab": {
          "base_uri": "https://localhost:8080/"
        },
        "id": "oHcRU7WeGTLo",
        "outputId": "149e51b8-9455-4a4b-b3b4-be2f291f814a"
      },
      "source": [
        "print(not False)\n",
        "print(not True)"
      ],
      "execution_count": 45,
      "outputs": [
        {
          "output_type": "stream",
          "text": [
            "True\n",
            "False\n"
          ],
          "name": "stdout"
        }
      ]
    },
    {
      "cell_type": "markdown",
      "metadata": {
        "id": "J-FXwk9BHM7R"
      },
      "source": [
        "**PRECEDENCIA DE OPERADORES**\n",
        "\n",
        "---\n",
        "Es muy importante manejar el orden de las operaciones al realizarlas, para no caer en problemas de codigo error.\n",
        "\n",
        "El orden  debe ser:\n",
        "1. De izquierda a derecha\n",
        "2. Parentesis\n",
        "3. Potenciacion o radicacion\n",
        "4. Multiplicacion y division\n",
        "5. Suma y Resta\n",
        "\n",
        "**Ejemplo:**\n",
        "4-2(10)=\n",
        "1. primero el parentesis:\n",
        "4-2*10=\n",
        "2. se continua con la multiplicacion \n",
        "4-20=\n",
        "3. por ultimo la resta:\n",
        "4-20=16\n",
        "\n",
        "**¿cual crees que es el resultado de la siguiente operacion?**\n"
      ]
    },
    {
      "cell_type": "code",
      "metadata": {
        "colab": {
          "base_uri": "https://localhost:8080/"
        },
        "id": "d3BzogMiIiup",
        "outputId": "d904c057-8bd6-4867-dadd-6047eb74efe5"
      },
      "source": [
        "a=False\n",
        "b=True\n",
        "c=True\n",
        "\n",
        "print(not c and (a or b))"
      ],
      "execution_count": 47,
      "outputs": [
        {
          "output_type": "stream",
          "text": [
            "False\n"
          ],
          "name": "stdout"
        }
      ]
    },
    {
      "cell_type": "code",
      "metadata": {
        "colab": {
          "base_uri": "https://localhost:8080/"
        },
        "id": "Vw70r-eBJBOJ",
        "outputId": "61b054a3-1fc1-4bcf-f199-560889c93d63"
      },
      "source": [
        "print(3-2*(13-5))"
      ],
      "execution_count": 48,
      "outputs": [
        {
          "output_type": "stream",
          "text": [
            "-13\n"
          ],
          "name": "stdout"
        }
      ]
    },
    {
      "cell_type": "markdown",
      "metadata": {
        "id": "h9mqQtA2JbCV"
      },
      "source": [
        "**RESUMEN**\n",
        "\n",
        "\n",
        "---\n",
        "1. Aplicacion de ley conmutativa: solo para suma y resta (Operadores basicos )\n",
        "2. Los resultados con operadores logicos son de tipo Booleano\n",
        "3. **NO** se puede realizar resta entre variables de tipo cadena  (El procedimiento si abarca numeros es la conversion desde el inicio).\n",
        "4. si aplicamo sel condicional AND, para que el resultado sea TRUE, la unica forma es que ambos valores sean verdaderos.\n",
        "5. En cambio con el OR, si cumple  que alguno de los dos valores son TRUE, el resultado sera TRUE.\n",
        "\n"
      ]
    },
    {
      "cell_type": "markdown",
      "metadata": {
        "id": "Pp65heNUB4tn"
      },
      "source": [
        ""
      ]
    },
    {
      "cell_type": "markdown",
      "metadata": {
        "id": "d0iTCctgGbYP"
      },
      "source": [
        ""
      ]
    }
  ]
}