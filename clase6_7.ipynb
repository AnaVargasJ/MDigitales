{
  "nbformat": 4,
  "nbformat_minor": 0,
  "metadata": {
    "colab": {
      "name": "clase6_7.ipynb",
      "provenance": [],
      "authorship_tag": "ABX9TyMshXVqORfRBeU5Xr3WOI80",
      "include_colab_link": true
    },
    "kernelspec": {
      "name": "python3",
      "display_name": "Python 3"
    },
    "language_info": {
      "name": "python"
    }
  },
  "cells": [
    {
      "cell_type": "markdown",
      "metadata": {
        "id": "view-in-github",
        "colab_type": "text"
      },
      "source": [
        "<a href=\"https://colab.research.google.com/github/AnaVargasJ/MDigitales/blob/main/clase6_7.ipynb\" target=\"_parent\"><img src=\"https://colab.research.google.com/assets/colab-badge.svg\" alt=\"Open In Colab\"/></a>"
      ]
    },
    {
      "cell_type": "markdown",
      "metadata": {
        "id": "dsG_j36qxWIv"
      },
      "source": [
        "\n",
        "\n",
        "**CONTINUACIÓN DE LOS EJEMPLOS DE USO DE LISTA DE COMPRENSIÓN**\n",
        "\n",
        "---\n",
        "*COMPRESIÓN DE CONJUNTOS*\n",
        "\n",
        "---\n",
        "\n",
        "La comprensión de conjuntos es muy similar a la que veniamos manejando con Lista. La única diferencia es que se usa los {}\n",
        "\n",
        "Recordemos que los conjuntos, también denominados *sets* no permiten dupliados, es decir, cada elemento es único. Si se llega a añadir en elemento repetido, no arrojará error, pero no se mostrará en el print.\n",
        "\n",
        "\n"
      ]
    },
    {
      "cell_type": "code",
      "metadata": {
        "id": "vnQ74b3fxEXv"
      },
      "source": [
        "sa=\"ema ama a mama\"\n",
        "sa2={i for i in sa if i==\"m\"}\n",
        "print(sa2)"
      ],
      "execution_count": null,
      "outputs": []
    },
    {
      "cell_type": "markdown",
      "metadata": {
        "id": "SPEoGoMhxc1X"
      },
      "source": [
        "Ahora, veámos a continuación el caso de dictionarios de comprensión. La punica diferencia que tiene respecto a las listas o conjuntos de comprensión es la especificación de llaves o claves(key)."
      ]
    },
    {
      "cell_type": "code",
      "metadata": {
        "id": "R4sONWJexeeW"
      },
      "source": [
        "lista1=['nombre', 'apellido', 'ciudad']\n",
        "lista2=['Ana', 'Rodriguez', 'Popayan']\n",
        "\n",
        "dic={i:j for i,j in zip(lista1, lista2)}\n",
        "print(dic)"
      ],
      "execution_count": null,
      "outputs": []
    },
    {
      "cell_type": "markdown",
      "metadata": {
        "id": "H5TkwWiUxjav"
      },
      "source": [
        "NOTA\n",
        "\n",
        "Podemos observar que añadiendo : asignamos un valor a la llave declarada, a su vez, usamos zip() el cual tiene como función iterar dos listas en paralelo. Es decir, con zip, podemos convertir dos listas en un diccionario y el for, se manejaria iterando dos valores en simultaneo."
      ]
    },
    {
      "cell_type": "markdown",
      "metadata": {
        "id": "5KEyCvj4xmkp"
      },
      "source": [
        "OTRAS ESTRUCTURAS DE CONTROL\n",
        "\n",
        "Switch\n",
        "Brak.\n",
        "Continue\n",
        "Complemento de iteración (Enumerate)\n",
        "1. Switch\n",
        "\n",
        "El Switch, es una herramienta que permite ejecutar diferentes secciones de código, dependeiendo de las condiciones impustas. Su función, es muy similar if anidados o varios por separado al mismo tiempo.\n",
        "\n",
        "Sin embargo, en Python no hay un switch directo.\n",
        "\n",
        "2. Break\n",
        "\n",
        "Nos permite alterar el comportamiento de los ciclos while y for. Directamente su función, es la de finalizar los ciclos"
      ]
    },
    {
      "cell_type": "code",
      "metadata": {
        "id": "eW_tU9f6xq8y"
      },
      "source": [
        "x=\"Andrea\" # sin break va a generar error\n",
        "for i in x:\n",
        "  if i==\"e\":\n",
        "    print(\"se obtuvo la letra e\")\n",
        "  break\n",
        "print(i)"
      ],
      "execution_count": null,
      "outputs": []
    },
    {
      "cell_type": "code",
      "metadata": {
        "id": "Gxg6cO9Rxsoq"
      },
      "source": [
        "x=15 #generar valor en una variable tipo numerico entero, de ahí aplicamos el ciclo de while... mientras llegemos a este punto de que este número sea verdadero.. quieor que se me genere el siguiente número\n",
        "while True: \n",
        "  x -=1\n",
        "  print(x)\n",
        "  if x==0:\n",
        "    break\n",
        "print(\"se finaliza ciclo\")"
      ],
      "execution_count": null,
      "outputs": []
    },
    {
      "cell_type": "code",
      "metadata": {
        "id": "NMMbYTuExuWi"
      },
      "source": [
        "#mezcla del uso de break con bucles anidados\n",
        "\n",
        "for i in range(1,8):\n",
        "  for j in range(1,8):\n",
        "    break\n",
        "  print(i,j)\n",
        "\n",
        "  #El break no afecta el *for* exterior, rompre el ciclo anidado en su conjunto\n",
        "  # Pero no afecta direcamente el ciclo exterior"
      ],
      "execution_count": null,
      "outputs": []
    },
    {
      "cell_type": "markdown",
      "metadata": {
        "id": "jlQY2jy8xxI4"
      },
      "source": [
        "2. CONTINUE\n",
        "\n",
        "El continue se salta too el código restante en la iteración actual y vuelve al principio en caso que quede elementos por iterar.\n",
        "\n",
        "Diferencias entre break y continue: La principal diferencia es que el continue no rompe el ciclo, sino que pasa a la iteración pendiente."
      ]
    },
    {
      "cell_type": "code",
      "metadata": {
        "colab": {
          "base_uri": "https://localhost:8080/"
        },
        "id": "v04H8-GWxzPC",
        "outputId": "31a11da8-2dd9-41b1-8d24-8805812c01c3"
      },
      "source": [
        "#Ejemplo\n",
        "\n",
        "x=\"Andrea\"\n",
        "for i in x:\n",
        "  if i==\"r\":\n",
        "    continue \n",
        "  print(i)"
      ],
      "execution_count": null,
      "outputs": [
        {
          "output_type": "stream",
          "text": [
            "A\n",
            "n\n",
            "d\n",
            "e\n",
            "a\n"
          ],
          "name": "stdout"
        }
      ]
    },
    {
      "cell_type": "code",
      "metadata": {
        "id": "dPXpCxvJx0xO"
      },
      "source": [
        "#ejemplo de caso con while##########################################################\n",
        "x = 15 \n",
        "while x > 0:\n",
        "  x -= 1\n",
        "  if x == 3:\n",
        "    continue\n",
        "  print(x)"
      ],
      "execution_count": null,
      "outputs": []
    },
    {
      "cell_type": "markdown",
      "metadata": {
        "id": "Y3nJ5ihAx4gy"
      },
      "source": [
        "Iterar con enumerate\n",
        "\n",
        "Pytgon nos permite iterra coleciciones de objetos y elementos de la misma forma. Sin embargo, hay una opción que es que en algunas situaciones que queramos acceder a un elemento ordenado podemos hacerlo, nombrandoi el indice de cada elemento ###################"
      ]
    },
    {
      "cell_type": "code",
      "metadata": {
        "id": "8XHipjnFx57U"
      },
      "source": [
        "w=[\"sa\", \"se\", \"si\", \"so\", \"su\"]\n",
        "for indice, i in enumerate(w):\n",
        "  print(indice,i)\n",
        "\n",
        "x=list(enumerate(w))\n",
        "print(x)"
      ],
      "execution_count": null,
      "outputs": []
    },
    {
      "cell_type": "markdown",
      "metadata": {
        "id": "4aRxSAjVx-Eh"
      },
      "source": [
        "Uso zip()\n",
        "\n",
        "la función directa de conversión de tuplas\n",
        "Si pasamos dos listas a zip, ek resultado será una tupla en donde cada elemento tendrá ########### cada uno de los elementos de las entradas"
      ]
    },
    {
      "cell_type": "code",
      "metadata": {
        "colab": {
          "base_uri": "https://localhost:8080/",
          "height": 229
        },
        "id": "1lDOwASYyAIl",
        "outputId": "9441195f-60a4-4ee0-86bc-381f4751cfb1"
      },
      "source": [
        "a=[1,2,3]\n",
        "b=[\"a\",\"b\",\"c\",]\n",
        "x=(\"q\",\"w\",\"e\")\n",
        "z=(10,20,20)\n",
        "c=zip(a,c)\n",
        "print(list(c))\n",
        "\n",
        "\n",
        "for i, j in zip(a,b):\n",
        "  print(\"Número\", i, \"letras\", j)\n",
        "\n",
        "\n",
        "  ####### REVISARR\n",
        "\n",
        "a=[1,2,3]\n",
        "b=[\"a\",\"b\",\"c\"]\n",
        "x=(\"q\",\"w\",\"e\")\n",
        "z=(10,20,20)\n",
        "c=zip(a,b)\n",
        "print(list(c))\n",
        "\n",
        "\n",
        "for lu, la, le, li in zip(a,b,x,z):\n",
        "  print(\"Número\", i, \"letras\", j)"
      ],
      "execution_count": null,
      "outputs": [
        {
          "output_type": "error",
          "ename": "NameError",
          "evalue": "ignored",
          "traceback": [
            "\u001b[0;31m---------------------------------------------------------------------------\u001b[0m",
            "\u001b[0;31mNameError\u001b[0m                                 Traceback (most recent call last)",
            "\u001b[0;32m<ipython-input-2-9124f05ba580>\u001b[0m in \u001b[0;36m<module>\u001b[0;34m()\u001b[0m\n\u001b[1;32m      3\u001b[0m \u001b[0mx\u001b[0m\u001b[0;34m=\u001b[0m\u001b[0;34m(\u001b[0m\u001b[0;34m\"q\"\u001b[0m\u001b[0;34m,\u001b[0m\u001b[0;34m\"w\"\u001b[0m\u001b[0;34m,\u001b[0m\u001b[0;34m\"e\"\u001b[0m\u001b[0;34m)\u001b[0m\u001b[0;34m\u001b[0m\u001b[0;34m\u001b[0m\u001b[0m\n\u001b[1;32m      4\u001b[0m \u001b[0mz\u001b[0m\u001b[0;34m=\u001b[0m\u001b[0;34m(\u001b[0m\u001b[0;36m10\u001b[0m\u001b[0;34m,\u001b[0m\u001b[0;36m20\u001b[0m\u001b[0;34m,\u001b[0m\u001b[0;36m20\u001b[0m\u001b[0;34m)\u001b[0m\u001b[0;34m\u001b[0m\u001b[0;34m\u001b[0m\u001b[0m\n\u001b[0;32m----> 5\u001b[0;31m \u001b[0mc\u001b[0m\u001b[0;34m=\u001b[0m\u001b[0mzip\u001b[0m\u001b[0;34m(\u001b[0m\u001b[0ma\u001b[0m\u001b[0;34m,\u001b[0m\u001b[0mc\u001b[0m\u001b[0;34m)\u001b[0m\u001b[0;34m\u001b[0m\u001b[0;34m\u001b[0m\u001b[0m\n\u001b[0m\u001b[1;32m      6\u001b[0m \u001b[0mprint\u001b[0m\u001b[0;34m(\u001b[0m\u001b[0mlist\u001b[0m\u001b[0;34m(\u001b[0m\u001b[0mc\u001b[0m\u001b[0;34m)\u001b[0m\u001b[0;34m)\u001b[0m\u001b[0;34m\u001b[0m\u001b[0;34m\u001b[0m\u001b[0m\n\u001b[1;32m      7\u001b[0m \u001b[0;34m\u001b[0m\u001b[0m\n",
            "\u001b[0;31mNameError\u001b[0m: name 'c' is not defined"
          ]
        }
      ]
    },
    {
      "cell_type": "code",
      "metadata": {
        "colab": {
          "base_uri": "https://localhost:8080/"
        },
        "id": "4jBmoldLyCHh",
        "outputId": "dd7ec302-fdb9-4242-ef2d-7c0bab3e6b90"
      },
      "source": [
        "a=[1,2,6]   \n",
        "b=[\"a\",\"b\"]\n",
        "\n",
        "for sa, se in zip(a,b):\n",
        "  print(sa, se)"
      ],
      "execution_count": null,
      "outputs": [
        {
          "output_type": "stream",
          "text": [
            "1 a\n",
            "2 b\n"
          ],
          "name": "stdout"
        }
      ]
    },
    {
      "cell_type": "code",
      "metadata": {
        "colab": {
          "base_uri": "https://localhost:8080/"
        },
        "id": "MTtVL1wiyEgp",
        "outputId": "6b612e02-c77a-44a1-e976-67dee1adac9d"
      },
      "source": [
        "c=[(1,'a'), (2,'b'), (2,'c')]   #ESTO ES PARA ROMPER CONJUTNTOS\n",
        "a,b=zip(*c)\n",
        "print(a)\n",
        "print(b)"
      ],
      "execution_count": null,
      "outputs": [
        {
          "output_type": "stream",
          "text": [
            "(1, 2, 2)\n",
            "('a', 'b', 'c')\n"
          ],
          "name": "stdout"
        }
      ]
    },
    {
      "cell_type": "markdown",
      "metadata": {
        "id": "xWGmdGxUyIg5"
      },
      "source": [
        "FUNCIONES\n",
        "\n",
        "La función nos permite ordenar de manera adecuada la generación de variables de objetos y bloques de código por ciclos y demás estructura.\n",
        "\n",
        "La sintaxis, es la siguiente:\n",
        "\n",
        "def nombre_funcion(argumentos): bloque de código nombre_funcion(argumentos2)\n",
        "\n",
        "arguemntos=el la cantidad de elemntos que vamos a considerar"
      ]
    },
    {
      "cell_type": "code",
      "metadata": {
        "colab": {
          "base_uri": "https://localhost:8080/"
        },
        "id": "oZ2L84l9yK78",
        "outputId": "7d8f3b4a-8077-49b0-db45-f0c874f9a7d7"
      },
      "source": [
        "def f(a):  # en lugra de f, puedo poner lo que yo quiera\n",
        "  return 2*a\n",
        "y=f(3)\n",
        "print(y)"
      ],
      "execution_count": null,
      "outputs": [
        {
          "output_type": "stream",
          "text": [
            "6\n"
          ],
          "name": "stdout"
        }
      ]
    },
    {
      "cell_type": "markdown",
      "metadata": {
        "id": "E6A5vYRKyNt0"
      },
      "source": [
        "Las funciones no sólo realizan una operación de sus entradas (argumentos de inicio), sino también de los siguientes principios:\n",
        "\n",
        "1. Reusabilidad: Si tenemos un fragmento de código usado en muchos sitios,y se guarda en una función. Nos evitará tener códigos repetidos, además de la conveniencia que tiene por ser facilmente editable.\n",
        "\n",
        "2. Modularidad: Permite legibilidad de forma más sencilla, es decir, los largos bloques de código se pueden agrupar en módulos o funciones y la lectura va a ser mucho más sencilla."
      ]
    },
    {
      "cell_type": "code",
      "metadata": {
        "colab": {
          "base_uri": "https://localhost:8080/"
        },
        "id": "QgomvNQ1yQfX",
        "outputId": "c1f139d4-c9f8-43b3-ee82-342a2626f074"
      },
      "source": [
        "#Ejemplo 2. Inclusión de argumentos de entrada\n",
        "\n",
        "def s(apellido): #apellido en el argumento de entrada\n",
        "  print(\"Hi Luisa\", apellido)\n",
        "s(\"Varon\")"
      ],
      "execution_count": null,
      "outputs": [
        {
          "output_type": "stream",
          "text": [
            "Hi Luisa Varon\n"
          ],
          "name": "stdout"
        }
      ]
    },
    {
      "cell_type": "code",
      "metadata": {
        "colab": {
          "base_uri": "https://localhost:8080/"
        },
        "id": "0ARQUJQ3ySZP",
        "outputId": "25e75c84-91ac-4697-8026-7ac8e604c9eb"
      },
      "source": [
        "#Ejemplo 3. Usaando dos arguemntos de entrada y salida y operación matemática\n",
        "\n",
        "def suma(a,b):\n",
        " return a+b\n",
        "suma(3,5)"
      ],
      "execution_count": null,
      "outputs": [
        {
          "output_type": "execute_result",
          "data": {
            "text/plain": [
              "8"
            ]
          },
          "metadata": {
            "tags": []
          },
          "execution_count": 7
        }
      ]
    },
    {
      "cell_type": "code",
      "metadata": {
        "colab": {
          "base_uri": "https://localhost:8080/",
          "height": 229
        },
        "id": "G-qKIEejyT8v",
        "outputId": "99ff3e78-527f-41b3-8ca8-703a3e85195b"
      },
      "source": [
        "#Ejemplo 4. Reusabilidad del código\n",
        "dog(a=4, b=20)\n",
        "\n",
        "#\n",
        "suma(a=4, b=20)"
      ],
      "execution_count": null,
      "outputs": [
        {
          "output_type": "error",
          "ename": "NameError",
          "evalue": "ignored",
          "traceback": [
            "\u001b[0;31m---------------------------------------------------------------------------\u001b[0m",
            "\u001b[0;31mNameError\u001b[0m                                 Traceback (most recent call last)",
            "\u001b[0;32m<ipython-input-8-2c66205b6982>\u001b[0m in \u001b[0;36m<module>\u001b[0;34m()\u001b[0m\n\u001b[1;32m      1\u001b[0m \u001b[0;31m#Ejemplo 4. Reusabilidad del código\u001b[0m\u001b[0;34m\u001b[0m\u001b[0;34m\u001b[0m\u001b[0;34m\u001b[0m\u001b[0m\n\u001b[0;32m----> 2\u001b[0;31m \u001b[0mdog\u001b[0m\u001b[0;34m(\u001b[0m\u001b[0ma\u001b[0m\u001b[0;34m=\u001b[0m\u001b[0;36m4\u001b[0m\u001b[0;34m,\u001b[0m \u001b[0mb\u001b[0m\u001b[0;34m=\u001b[0m\u001b[0;36m20\u001b[0m\u001b[0;34m)\u001b[0m\u001b[0;34m\u001b[0m\u001b[0;34m\u001b[0m\u001b[0m\n\u001b[0m\u001b[1;32m      3\u001b[0m \u001b[0;34m\u001b[0m\u001b[0m\n\u001b[1;32m      4\u001b[0m \u001b[0;31m#\u001b[0m\u001b[0;34m\u001b[0m\u001b[0;34m\u001b[0m\u001b[0;34m\u001b[0m\u001b[0m\n\u001b[1;32m      5\u001b[0m \u001b[0msuma\u001b[0m\u001b[0;34m(\u001b[0m\u001b[0ma\u001b[0m\u001b[0;34m=\u001b[0m\u001b[0;36m4\u001b[0m\u001b[0;34m,\u001b[0m \u001b[0mb\u001b[0m\u001b[0;34m=\u001b[0m\u001b[0;36m20\u001b[0m\u001b[0;34m)\u001b[0m\u001b[0;34m\u001b[0m\u001b[0;34m\u001b[0m\u001b[0m\n",
            "\u001b[0;31mNameError\u001b[0m: name 'dog' is not defined"
          ]
        }
      ]
    },
    {
      "cell_type": "code",
      "metadata": {
        "colab": {
          "base_uri": "https://localhost:8080/"
        },
        "id": "c60g1r-hyV6i",
        "outputId": "c97d9d0c-3827-44e8-b98a-b94ab54c5077"
      },
      "source": [
        "#Ejemplo 4. Argumentos fijos desde el inicio\n",
        "\n",
        "def suma(a,b,c,d=1): ##Corección de default\n",
        " return a+b+c+d\n",
        "suma(2,3,4,2)\n"
      ],
      "execution_count": null,
      "outputs": [
        {
          "output_type": "execute_result",
          "data": {
            "text/plain": [
              "11"
            ]
          },
          "metadata": {
            "tags": []
          },
          "execution_count": 9
        }
      ]
    },
    {
      "cell_type": "code",
      "metadata": {
        "id": "6842rpo0yYri"
      },
      "source": [
        "suma(2,3,3,4)"
      ],
      "execution_count": null,
      "outputs": []
    },
    {
      "cell_type": "code",
      "metadata": {
        "id": "In1gasR8yaaZ"
      },
      "source": [
        "def suma(a=2, b=3, c=4, d=5):\n",
        "  return a+b+c+d\n",
        "suma()\n",
        "\n",
        "suma(1)\n",
        "suma(a=1,c=5)"
      ],
      "execution_count": null,
      "outputs": []
    },
    {
      "cell_type": "code",
      "metadata": {
        "id": "OjGUKaZMyb-z"
      },
      "source": [
        "# Ejemplo 5 Argumentos de longitud variable\n",
        "\n",
        "def suma(number):\n",
        "  total=0\n",
        "  for i in number:\n",
        "    total +=i\n",
        "  return total \n",
        "suma([1,3,5,4])\n",
        " \n",
        "\n",
        "####Se realizo la suma de rodos los números de entrada. Para ellos la declaración de los argumenros de salida, sería como una lista\n",
        "\n",
        "#    += dice que lo traiga de forma ordenada\n",
        " #   -= revserso"
      ],
      "execution_count": null,
      "outputs": []
    },
    {
      "cell_type": "markdown",
      "metadata": {
        "id": "I4bPar4vyetD"
      },
      "source": [
        "Nota: Se realizo la suma de rodos los números de entrada. Para ellos la declaración de los argumentos de salida, sería como una lista.\n",
        "\n",
        "La forma de sintaxis anterior es válida, sin embargo, tebemos un solo argumento que llamamos number, que es una lista de números.\n",
        "Si declaramos un argumento con *, esto hará que el argumento sea guardado como tupla de manera automática."
      ]
    },
    {
      "cell_type": "code",
      "metadata": {
        "id": "nEyySpfpyhPR"
      },
      "source": [
        "def suma(*number):\n",
        "  print(type(number))\n",
        "  total=0\n",
        "  for i in number:\n",
        "    total+=i\n",
        "  return total\n",
        "suma(2,3,5,4)"
      ],
      "execution_count": null,
      "outputs": []
    },
    {
      "cell_type": "markdown",
      "metadata": {
        "id": "ELYgOnaN2UxZ"
      },
      "source": [
        "**clase 7**\n",
        "\n",
        "Continuacion de funciones"
      ]
    },
    {
      "cell_type": "code",
      "metadata": {
        "id": "rmWdhHjN2ZtC"
      },
      "source": [
        "suma(1,2,5,6,7,9) #Al realizar el cambio y/o edicion de la funcion suma"
      ],
      "execution_count": null,
      "outputs": []
    },
    {
      "cell_type": "markdown",
      "metadata": {
        "id": "_Sc4K-OC2izh"
      },
      "source": [
        "El uso de doble * nos permite tener como parametro de entrada una lista de lementos en forma de  clave y valor.la forma de iterar sera usando el comando item"
      ]
    },
    {
      "cell_type": "code",
      "metadata": {
        "colab": {
          "base_uri": "https://localhost:8080/"
        },
        "id": "SatmRhYJ244m",
        "outputId": "f8ef5cff-58da-429a-ea9a-0070cf374975"
      },
      "source": [
        "def suma(**dado):\n",
        "  suma=0;\n",
        "  for i,j in dado.items():\n",
        "    suma += j\n",
        "    return suma\n",
        "\n",
        "suma(a=3, b=30, c=7)"
      ],
      "execution_count": 2,
      "outputs": [
        {
          "output_type": "execute_result",
          "data": {
            "text/plain": [
              "3"
            ]
          },
          "metadata": {
            "tags": []
          },
          "execution_count": 2
        }
      ]
    },
    {
      "cell_type": "markdown",
      "metadata": {
        "id": "M9lRkY7v4C7L"
      },
      "source": [
        "**Ampliemos la definicion del comando Return**\n",
        "\n",
        "1.Devolver parametros. "
      ]
    },
    {
      "cell_type": "code",
      "metadata": {
        "colab": {
          "base_uri": "https://localhost:8080/",
          "height": 35
        },
        "id": "oeHakf1m4UYC",
        "outputId": "100771df-9f5f-4182-db48-a41b12d7805c"
      },
      "source": [
        "def w():\n",
        "  return \"Hi\"\n",
        "w()"
      ],
      "execution_count": 3,
      "outputs": [
        {
          "output_type": "execute_result",
          "data": {
            "application/vnd.google.colaboratory.intrinsic+json": {
              "type": "string"
            },
            "text/plain": [
              "'Hi'"
            ]
          },
          "metadata": {
            "tags": []
          },
          "execution_count": 3
        }
      ]
    },
    {
      "cell_type": "markdown",
      "metadata": {
        "id": "2tfx0ZiK4pku"
      },
      "source": [
        "2. Devolver varias variables "
      ]
    },
    {
      "cell_type": "code",
      "metadata": {
        "colab": {
          "base_uri": "https://localhost:8080/"
        },
        "id": "Va_egXQg4v2K",
        "outputId": "6f548b00-6d5c-4dcb-ca5c-e0fa2ccf5f75"
      },
      "source": [
        "def sd(a,b,c):\n",
        "  q=a + b + c #Declaracion de variable con una suma de argumentos\n",
        "  z=q/3  #Declaracion de variable con el promedio\n",
        "  return q,z\n",
        "q,z=sd(2,4,6)\n",
        "print(q)\n",
        "print(z)"
      ],
      "execution_count": 4,
      "outputs": [
        {
          "output_type": "stream",
          "text": [
            "12\n",
            "4.0\n"
          ],
          "name": "stdout"
        }
      ]
    },
    {
      "cell_type": "markdown",
      "metadata": {
        "id": "P0vd0Hyb5qvr"
      },
      "source": [
        "**Fomras de hacer documentacion en programacion y por bloques de codigo o linea**\n",
        "\n",
        "---\n",
        "def paula(a,b):\n",
        "\n"
      ]
    },
    {
      "cell_type": "code",
      "metadata": {
        "colab": {
          "base_uri": "https://localhost:8080/",
          "height": 145
        },
        "id": "Izc0HzIf55ls",
        "outputId": "5e8e1445-a5d5-4fb5-8ff8-9a8ebc5bbeb0"
      },
      "source": [
        "def paula(a,b):\n",
        "\"\"\"\n",
        "Descripcionde la funcion, los parameteos que se van a usar\n",
        "explicar como se usa y que operaciones devuelve esta funcion\n",
        "\"\"\"\n",
        "casa=a+b\n",
        "  return a+b\n",
        "paula(2,3)"
      ],
      "execution_count": 7,
      "outputs": [
        {
          "output_type": "error",
          "ename": "IndentationError",
          "evalue": "ignored",
          "traceback": [
            "\u001b[0;36m  File \u001b[0;32m\"<ipython-input-7-7d1c12f22927>\"\u001b[0;36m, line \u001b[0;32m5\u001b[0m\n\u001b[0;31m    \"\"\"\u001b[0m\n\u001b[0m       \n^\u001b[0m\n\u001b[0;31mIndentationError\u001b[0m\u001b[0;31m:\u001b[0m expected an indented block\n"
          ]
        }
      ]
    },
    {
      "cell_type": "code",
      "metadata": {
        "id": "I0UKq_2e7OZR"
      },
      "source": [
        "help(paula)"
      ],
      "execution_count": null,
      "outputs": []
    },
    {
      "cell_type": "markdown",
      "metadata": {
        "id": "mZEXoXyB7QHb"
      },
      "source": [
        "help on function paula in module__main__:\n",
        "\n",
        "paula(a, b)\n",
        "Descripcion de la funcion, los parametros que se van a usar, explicar como se usa y que operaciones devuelve esta funcion (docstring)"
      ]
    },
    {
      "cell_type": "code",
      "metadata": {
        "colab": {
          "base_uri": "https://localhost:8080/",
          "height": 178
        },
        "id": "3Mu0FL467jKW",
        "outputId": "9c0afe40-4637-4868-8d22-bf2100854b06"
      },
      "source": [
        "print(paula._doc_)#Otra forma de llamar el comentario es print del nombre de esta funcion seguido de puntoseguido, doble guion bajo, escrbir \"doc\" y seguido\n"
      ],
      "execution_count": 14,
      "outputs": [
        {
          "output_type": "error",
          "ename": "NameError",
          "evalue": "ignored",
          "traceback": [
            "\u001b[0;31m---------------------------------------------------------------------------\u001b[0m",
            "\u001b[0;31mNameError\u001b[0m                                 Traceback (most recent call last)",
            "\u001b[0;32m<ipython-input-14-addd947ca403>\u001b[0m in \u001b[0;36m<module>\u001b[0;34m()\u001b[0m\n\u001b[0;32m----> 1\u001b[0;31m \u001b[0mprint\u001b[0m\u001b[0;34m(\u001b[0m\u001b[0mpaula\u001b[0m\u001b[0;34m.\u001b[0m\u001b[0m_doc_\u001b[0m\u001b[0;34m)\u001b[0m\u001b[0;31m#Otra forma de llamar el comentario es print del nombre de esta funcion seguido de puntoseguido, doble guion bajo, escrbir \"doc\" y seguido\u001b[0m\u001b[0;34m\u001b[0m\u001b[0;34m\u001b[0m\u001b[0m\n\u001b[0m",
            "\u001b[0;31mNameError\u001b[0m: name 'paula' is not defined"
          ]
        }
      ]
    },
    {
      "cell_type": "markdown",
      "metadata": {
        "id": "IC1CoLar78KE"
      },
      "source": [
        "Descripcion de la funcion, los parametros que se van a usar, explicar  como se usa y que operaciones  devuelve esta funcion (docstring)"
      ]
    },
    {
      "cell_type": "markdown",
      "metadata": {
        "id": "tr808xh28WGx"
      },
      "source": [
        "**Diferencia entre valoresy referencias**\n",
        "\n",
        "---\n",
        "existen dos conceptos de paso por valor * valor* y por *referencia* que se aplican a la hora de tratar a los parametros de una funcion:\n",
        "1. si se usa un parametro que pasa valor, se crea una copia local de la variable, lo cual implica que cualquier modificacion sobre esta no tendra repercuciones sobre  la base  orignal.\n",
        "\n",
        "\n",
        "2. si la variable pasa como referencia, si actuara directamente sobre la base original"
      ]
    },
    {
      "cell_type": "code",
      "metadata": {
        "colab": {
          "base_uri": "https://localhost:8080/"
        },
        "id": "Sf9LrGJz9vRk",
        "outputId": "1ae05375-c947-4ea1-e0da-ac3195d66aff"
      },
      "source": [
        "#ejemplo de paso por **valor**\n",
        "\n",
        "x=3\n",
        "def funcion(w):\n",
        "  w=0\n",
        "funcion(x)\n",
        "print(x)"
      ],
      "execution_count": 12,
      "outputs": [
        {
          "output_type": "stream",
          "text": [
            "3\n"
          ],
          "name": "stdout"
        }
      ]
    },
    {
      "cell_type": "markdown",
      "metadata": {
        "id": "_CgafwDX-qGB"
      },
      "source": [
        "1. inicio con x=3\n",
        "2.se lo pasamos a la funcion\n",
        "3. dentro de esta funcion hacemos que la variable valga cero\n",
        "4. dado que pasa como valor, dentro de la funcion  se crea una copia local de x. por lo cual, la variable original no se modifica."
      ]
    },
    {
      "cell_type": "code",
      "metadata": {
        "colab": {
          "base_uri": "https://localhost:8080/"
        },
        "id": "MVFM8XiF_d5Z",
        "outputId": "db0f5838-89f6-458d-f64f-4022a58df32a"
      },
      "source": [
        "##caso que pasa por**refrencia**\n",
        "x=[3,6,9,12]\n",
        "def sw(tipo):\n",
        "  tipo.append(50)\n",
        "sw(x)\n",
        "print(x)"
      ],
      "execution_count": 13,
      "outputs": [
        {
          "output_type": "stream",
          "text": [
            "[3, 6, 9, 12, 50]\n"
          ],
          "name": "stdout"
        }
      ]
    },
    {
      "cell_type": "markdown",
      "metadata": {
        "id": "uc9KfjcSBUS7"
      },
      "source": [
        "**Tipos de funciones**\n",
        "\n",
        "\n",
        "---\n",
        "1. funcion lambda\n",
        "\n",
        "son funciones que normalmente se usan para definir el codigo en una sola linea\n",
        "\n"
      ]
    },
    {
      "cell_type": "code",
      "metadata": {
        "colab": {
          "base_uri": "https://localhost:8080/"
        },
        "id": "Whgcz97eBzWf",
        "outputId": "13a17cf7-6250-4180-a855-8bfa98f1b527"
      },
      "source": [
        "#lo que normalmente seria la defincion de la funcion de este estilo cuando definimos :\n",
        "#def suma(a,b,c,d):\n",
        "# return a + b +c +d\n",
        "\n",
        "#*# se puede escribir de  la siguiente manera:\n",
        "(lambda a,b,c,d: a+b+c+d)(1,2,3,4)\n"
      ],
      "execution_count": 16,
      "outputs": [
        {
          "output_type": "execute_result",
          "data": {
            "text/plain": [
              "10"
            ]
          },
          "metadata": {
            "tags": []
          },
          "execution_count": 16
        }
      ]
    },
    {
      "cell_type": "code",
      "metadata": {
        "colab": {
          "base_uri": "https://localhost:8080/"
        },
        "id": "npgzovfTDPn3",
        "outputId": "9abf2830-b7ab-4c63-9609-c2630251d776"
      },
      "source": [
        "(lambda *number:sum(number)) (1,4,5,5,6,7,8)"
      ],
      "execution_count": 17,
      "outputs": [
        {
          "output_type": "execute_result",
          "data": {
            "text/plain": [
              "36"
            ]
          },
          "metadata": {
            "tags": []
          },
          "execution_count": 17
        }
      ]
    },
    {
      "cell_type": "code",
      "metadata": {
        "colab": {
          "base_uri": "https://localhost:8080/"
        },
        "id": "X0PCnuUxEW48",
        "outputId": "5a394888-4856-4622-a94a-4cbdaa2a34d1"
      },
      "source": [
        "(lambda **number:sum(number.values()))(a=1, b=4, c=10) "
      ],
      "execution_count": 18,
      "outputs": [
        {
          "output_type": "execute_result",
          "data": {
            "text/plain": [
              "15"
            ]
          },
          "metadata": {
            "tags": []
          },
          "execution_count": 18
        }
      ]
    },
    {
      "cell_type": "code",
      "metadata": {
        "colab": {
          "base_uri": "https://localhost:8080/"
        },
        "id": "fHWL_vnmEvvn",
        "outputId": "256ae182-a96e-48af-f3d5-4e08c931333a"
      },
      "source": [
        "ana=lambda a,b,c,d:(a,b,c,d)\n",
        "print(ana(2,5,7,9 ))"
      ],
      "execution_count": 19,
      "outputs": [
        {
          "output_type": "stream",
          "text": [
            "(2, 5, 7, 9)\n"
          ],
          "name": "stdout"
        }
      ]
    },
    {
      "cell_type": "markdown",
      "metadata": {
        "id": "g0hNaFnjFlc3"
      },
      "source": [
        "**RECURSIVIDAD**\n",
        "\n",
        "\n",
        "---\n",
        "las caracteristicas de una funcion recursiva son las sisguientes.\n",
        "\n",
        "1. seccion en que se llama a si misma\n",
        "2. seccion del bloque codigo donde este la condiccion que implique retornar sin volver a llamarse.(**IMPORTANTE**)\n",
        "\n",
        "los ejemplos tradiccionales de recursividad son la aplicacion de **calculo factorial** y la **serie de fibonacci**\n",
        "\n",
        "\n",
        "1. **calculo factorial**\n",
        "\n",
        "en matematicas definimos factorial n!como la multiplicacion de todos los numeros predecesorees hasta llegar a uno\n",
        "\n",
        "Ejemplo:\n",
        "5! = 5*4*3*2*1\n",
        "100! = 100*99*98*99*.....*1"
      ]
    },
    {
      "cell_type": "code",
      "metadata": {
        "colab": {
          "base_uri": "https://localhost:8080/"
        },
        "id": "qkJaCIcCHiVd",
        "outputId": "3fe9291a-12ab-48b0-83e8-96f6a976b5ee"
      },
      "source": [
        "#Apliquemos un enfoque no recursivo de calculo factorial:\n",
        "\n",
        "\n",
        "def factorial(n):\n",
        "  w=1\n",
        "  i=2\n",
        "  while i<=n:\n",
        "    w *=i\n",
        "    i +=1\n",
        "    return w \n",
        "factorial(5)"
      ],
      "execution_count": 22,
      "outputs": [
        {
          "output_type": "execute_result",
          "data": {
            "text/plain": [
              "2"
            ]
          },
          "metadata": {
            "tags": []
          },
          "execution_count": 22
        }
      ]
    },
    {
      "cell_type": "code",
      "metadata": {
        "colab": {
          "base_uri": "https://localhost:8080/"
        },
        "id": "yUw4zO4wI2Bp",
        "outputId": "c68b1a31-5c97-4b34-b744-5b538f2f6c53"
      },
      "source": [
        "#definamos factorial recursivo\n",
        "\n",
        "def recursivofac(n):\n",
        "  if n==1:\n",
        "    return 1\n",
        "  else:\n",
        "    return n*recursivofac(n-1)\n",
        "recursivofac(10)"
      ],
      "execution_count": 28,
      "outputs": [
        {
          "output_type": "execute_result",
          "data": {
            "text/plain": [
              "3628800"
            ]
          },
          "metadata": {
            "tags": []
          },
          "execution_count": 28
        }
      ]
    },
    {
      "cell_type": "markdown",
      "metadata": {
        "id": "wB9iMGbbKkYE"
      },
      "source": [
        "A continuacion complementamos los tipos de generadores :\n",
        "\n",
        "1. return\n",
        "2. yield"
      ]
    },
    {
      "cell_type": "code",
      "metadata": {
        "colab": {
          "base_uri": "https://localhost:8080/"
        },
        "id": "mDzUROk-KxTf",
        "outputId": "e3f4fe44-b1c9-47da-b45a-b80fde8afe90"
      },
      "source": [
        "def s():\n",
        "  yield 4\n",
        "s()"
      ],
      "execution_count": 30,
      "outputs": [
        {
          "output_type": "execute_result",
          "data": {
            "text/plain": [
              "<generator object s at 0x7f7d4fe941d0>"
            ]
          },
          "metadata": {
            "tags": []
          },
          "execution_count": 30
        }
      ]
    },
    {
      "cell_type": "markdown",
      "metadata": {
        "id": "Mauh0HFzLGqE"
      },
      "source": [
        "cuando usamos el return nos devuelvbe el numero 4 pero cuando usamos el yiel klo que devuelve es un objecto de lcase (generador"
      ]
    }
  ]
}